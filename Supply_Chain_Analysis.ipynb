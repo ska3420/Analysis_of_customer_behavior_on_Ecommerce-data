{
  "cells": [
    {
      "cell_type": "code",
      "execution_count": null,
      "id": "82cfd3eb",
      "metadata": {
        "id": "82cfd3eb",
        "outputId": "93c174d5-9daf-45c3-b000-c502f59d1e7b"
      },
      "outputs": [
        {
          "data": {
            "text/plain": [
              "'C:\\\\Users\\\\HP\\\\Desktop\\\\MSC-IV sem project'"
            ]
          },
          "execution_count": 2,
          "metadata": {},
          "output_type": "execute_result"
        }
      ],
      "source": [
        "#For mathematical computation\n",
        "import numpy as np # linear algebra\n",
        "import pandas as pd # data processing, CSV file I/O (e.g. pd.read_csv)\n",
        "\n",
        "import matplotlib.pyplot as plt\n",
        "%matplotlib inline\n",
        "import warnings\n",
        "warnings.filterwarnings('ignore')\n",
        "import os\n",
        "import seaborn as sns\n",
        "import math\n",
        "os.getcwd()"
      ]
    },
    {
      "cell_type": "code",
      "execution_count": null,
      "id": "ddd0cf08",
      "metadata": {
        "id": "ddd0cf08",
        "outputId": "925164fd-098e-4ea5-9dc4-9b1b27a98411"
      },
      "outputs": [
        {
          "data": {
            "text/html": [
              "<div>\n",
              "<style scoped>\n",
              "    .dataframe tbody tr th:only-of-type {\n",
              "        vertical-align: middle;\n",
              "    }\n",
              "\n",
              "    .dataframe tbody tr th {\n",
              "        vertical-align: top;\n",
              "    }\n",
              "\n",
              "    .dataframe thead th {\n",
              "        text-align: right;\n",
              "    }\n",
              "</style>\n",
              "<table border=\"1\" class=\"dataframe\">\n",
              "  <thead>\n",
              "    <tr style=\"text-align: right;\">\n",
              "      <th></th>\n",
              "      <th>Type</th>\n",
              "      <th>Days_for_shipping_(real)</th>\n",
              "      <th>Days_for_shipment_(scheduled)</th>\n",
              "      <th>Benefit_per_order</th>\n",
              "      <th>Sales_per_customer</th>\n",
              "      <th>Delivery_Status</th>\n",
              "      <th>Late_delivery_risk</th>\n",
              "      <th>Category_Id</th>\n",
              "      <th>Category_Name</th>\n",
              "      <th>Customer_City</th>\n",
              "      <th>...</th>\n",
              "      <th>Order_Zipcode</th>\n",
              "      <th>Product_Card_Id</th>\n",
              "      <th>Product_Categor_Id</th>\n",
              "      <th>Product_Description</th>\n",
              "      <th>Product_Image</th>\n",
              "      <th>Product_Name</th>\n",
              "      <th>Product_Price</th>\n",
              "      <th>Product_Status</th>\n",
              "      <th>shipping_date_(DateOrders)</th>\n",
              "      <th>Shipping_Mode</th>\n",
              "    </tr>\n",
              "  </thead>\n",
              "  <tbody>\n",
              "    <tr>\n",
              "      <th>0</th>\n",
              "      <td>DEBIT</td>\n",
              "      <td>3</td>\n",
              "      <td>4</td>\n",
              "      <td>91.250000</td>\n",
              "      <td>314.640015</td>\n",
              "      <td>Advance shipping</td>\n",
              "      <td>0</td>\n",
              "      <td>73</td>\n",
              "      <td>Sporting Goods</td>\n",
              "      <td>Caguas</td>\n",
              "      <td>...</td>\n",
              "      <td>NaN</td>\n",
              "      <td>1360</td>\n",
              "      <td>73</td>\n",
              "      <td>NaN</td>\n",
              "      <td>http://images.acmesports.sports/Smart+watch</td>\n",
              "      <td>Smart watch</td>\n",
              "      <td>327.75</td>\n",
              "      <td>0</td>\n",
              "      <td>02-03-2018 22:56</td>\n",
              "      <td>Standard Class</td>\n",
              "    </tr>\n",
              "    <tr>\n",
              "      <th>1</th>\n",
              "      <td>TRANSFER</td>\n",
              "      <td>5</td>\n",
              "      <td>4</td>\n",
              "      <td>-249.089996</td>\n",
              "      <td>311.359985</td>\n",
              "      <td>Late delivery</td>\n",
              "      <td>1</td>\n",
              "      <td>73</td>\n",
              "      <td>Sporting Goods</td>\n",
              "      <td>Caguas</td>\n",
              "      <td>...</td>\n",
              "      <td>NaN</td>\n",
              "      <td>1360</td>\n",
              "      <td>73</td>\n",
              "      <td>NaN</td>\n",
              "      <td>http://images.acmesports.sports/Smart+watch</td>\n",
              "      <td>Smart watch</td>\n",
              "      <td>327.75</td>\n",
              "      <td>0</td>\n",
              "      <td>1/18/2018 12:27</td>\n",
              "      <td>Standard Class</td>\n",
              "    </tr>\n",
              "    <tr>\n",
              "      <th>2</th>\n",
              "      <td>CASH</td>\n",
              "      <td>4</td>\n",
              "      <td>4</td>\n",
              "      <td>-247.779999</td>\n",
              "      <td>309.720001</td>\n",
              "      <td>Shipping on time</td>\n",
              "      <td>0</td>\n",
              "      <td>73</td>\n",
              "      <td>Sporting Goods</td>\n",
              "      <td>San Jose</td>\n",
              "      <td>...</td>\n",
              "      <td>NaN</td>\n",
              "      <td>1360</td>\n",
              "      <td>73</td>\n",
              "      <td>NaN</td>\n",
              "      <td>http://images.acmesports.sports/Smart+watch</td>\n",
              "      <td>Smart watch</td>\n",
              "      <td>327.75</td>\n",
              "      <td>0</td>\n",
              "      <td>1/17/2018 12:06</td>\n",
              "      <td>Standard Class</td>\n",
              "    </tr>\n",
              "    <tr>\n",
              "      <th>3</th>\n",
              "      <td>DEBIT</td>\n",
              "      <td>3</td>\n",
              "      <td>4</td>\n",
              "      <td>22.860001</td>\n",
              "      <td>304.809998</td>\n",
              "      <td>Advance shipping</td>\n",
              "      <td>0</td>\n",
              "      <td>73</td>\n",
              "      <td>Sporting Goods</td>\n",
              "      <td>Los Angeles</td>\n",
              "      <td>...</td>\n",
              "      <td>NaN</td>\n",
              "      <td>1360</td>\n",
              "      <td>73</td>\n",
              "      <td>NaN</td>\n",
              "      <td>http://images.acmesports.sports/Smart+watch</td>\n",
              "      <td>Smart watch</td>\n",
              "      <td>327.75</td>\n",
              "      <td>0</td>\n",
              "      <td>1/16/2018 11:45</td>\n",
              "      <td>Standard Class</td>\n",
              "    </tr>\n",
              "    <tr>\n",
              "      <th>4</th>\n",
              "      <td>PAYMENT</td>\n",
              "      <td>2</td>\n",
              "      <td>4</td>\n",
              "      <td>134.210007</td>\n",
              "      <td>298.250000</td>\n",
              "      <td>Advance shipping</td>\n",
              "      <td>0</td>\n",
              "      <td>73</td>\n",
              "      <td>Sporting Goods</td>\n",
              "      <td>Caguas</td>\n",
              "      <td>...</td>\n",
              "      <td>NaN</td>\n",
              "      <td>1360</td>\n",
              "      <td>73</td>\n",
              "      <td>NaN</td>\n",
              "      <td>http://images.acmesports.sports/Smart+watch</td>\n",
              "      <td>Smart watch</td>\n",
              "      <td>327.75</td>\n",
              "      <td>0</td>\n",
              "      <td>1/15/2018 11:24</td>\n",
              "      <td>Standard Class</td>\n",
              "    </tr>\n",
              "    <tr>\n",
              "      <th>5</th>\n",
              "      <td>TRANSFER</td>\n",
              "      <td>6</td>\n",
              "      <td>4</td>\n",
              "      <td>18.580000</td>\n",
              "      <td>294.980011</td>\n",
              "      <td>Shipping canceled</td>\n",
              "      <td>0</td>\n",
              "      <td>73</td>\n",
              "      <td>Sporting Goods</td>\n",
              "      <td>Tonawanda</td>\n",
              "      <td>...</td>\n",
              "      <td>NaN</td>\n",
              "      <td>1360</td>\n",
              "      <td>73</td>\n",
              "      <td>NaN</td>\n",
              "      <td>http://images.acmesports.sports/Smart+watch</td>\n",
              "      <td>Smart watch</td>\n",
              "      <td>327.75</td>\n",
              "      <td>0</td>\n",
              "      <td>1/19/2018 11:03</td>\n",
              "      <td>Standard Class</td>\n",
              "    </tr>\n",
              "    <tr>\n",
              "      <th>6</th>\n",
              "      <td>DEBIT</td>\n",
              "      <td>2</td>\n",
              "      <td>1</td>\n",
              "      <td>95.180000</td>\n",
              "      <td>288.420013</td>\n",
              "      <td>Late delivery</td>\n",
              "      <td>1</td>\n",
              "      <td>73</td>\n",
              "      <td>Sporting Goods</td>\n",
              "      <td>Caguas</td>\n",
              "      <td>...</td>\n",
              "      <td>NaN</td>\n",
              "      <td>1360</td>\n",
              "      <td>73</td>\n",
              "      <td>NaN</td>\n",
              "      <td>http://images.acmesports.sports/Smart+watch</td>\n",
              "      <td>Smart watch</td>\n",
              "      <td>327.75</td>\n",
              "      <td>0</td>\n",
              "      <td>1/15/2018 10:42</td>\n",
              "      <td>First Class</td>\n",
              "    </tr>\n",
              "    <tr>\n",
              "      <th>7</th>\n",
              "      <td>TRANSFER</td>\n",
              "      <td>2</td>\n",
              "      <td>1</td>\n",
              "      <td>68.430000</td>\n",
              "      <td>285.140015</td>\n",
              "      <td>Late delivery</td>\n",
              "      <td>1</td>\n",
              "      <td>73</td>\n",
              "      <td>Sporting Goods</td>\n",
              "      <td>Miami</td>\n",
              "      <td>...</td>\n",
              "      <td>NaN</td>\n",
              "      <td>1360</td>\n",
              "      <td>73</td>\n",
              "      <td>NaN</td>\n",
              "      <td>http://images.acmesports.sports/Smart+watch</td>\n",
              "      <td>Smart watch</td>\n",
              "      <td>327.75</td>\n",
              "      <td>0</td>\n",
              "      <td>1/15/2018 10:21</td>\n",
              "      <td>First Class</td>\n",
              "    </tr>\n",
              "    <tr>\n",
              "      <th>8</th>\n",
              "      <td>CASH</td>\n",
              "      <td>3</td>\n",
              "      <td>2</td>\n",
              "      <td>133.720001</td>\n",
              "      <td>278.589996</td>\n",
              "      <td>Late delivery</td>\n",
              "      <td>1</td>\n",
              "      <td>73</td>\n",
              "      <td>Sporting Goods</td>\n",
              "      <td>Caguas</td>\n",
              "      <td>...</td>\n",
              "      <td>NaN</td>\n",
              "      <td>1360</td>\n",
              "      <td>73</td>\n",
              "      <td>NaN</td>\n",
              "      <td>http://images.acmesports.sports/Smart+watch</td>\n",
              "      <td>Smart watch</td>\n",
              "      <td>327.75</td>\n",
              "      <td>0</td>\n",
              "      <td>1/16/2018 10:00</td>\n",
              "      <td>Second Class</td>\n",
              "    </tr>\n",
              "    <tr>\n",
              "      <th>9</th>\n",
              "      <td>CASH</td>\n",
              "      <td>2</td>\n",
              "      <td>1</td>\n",
              "      <td>132.149994</td>\n",
              "      <td>275.309998</td>\n",
              "      <td>Late delivery</td>\n",
              "      <td>1</td>\n",
              "      <td>73</td>\n",
              "      <td>Sporting Goods</td>\n",
              "      <td>San Ramon</td>\n",
              "      <td>...</td>\n",
              "      <td>NaN</td>\n",
              "      <td>1360</td>\n",
              "      <td>73</td>\n",
              "      <td>NaN</td>\n",
              "      <td>http://images.acmesports.sports/Smart+watch</td>\n",
              "      <td>Smart watch</td>\n",
              "      <td>327.75</td>\n",
              "      <td>0</td>\n",
              "      <td>1/15/2018 9:39</td>\n",
              "      <td>First Class</td>\n",
              "    </tr>\n",
              "  </tbody>\n",
              "</table>\n",
              "<p>10 rows × 53 columns</p>\n",
              "</div>"
            ],
            "text/plain": [
              "       Type  Days_for_shipping_(real)  Days_for_shipment_(scheduled)  \\\n",
              "0     DEBIT                         3                              4   \n",
              "1  TRANSFER                         5                              4   \n",
              "2      CASH                         4                              4   \n",
              "3     DEBIT                         3                              4   \n",
              "4   PAYMENT                         2                              4   \n",
              "5  TRANSFER                         6                              4   \n",
              "6     DEBIT                         2                              1   \n",
              "7  TRANSFER                         2                              1   \n",
              "8      CASH                         3                              2   \n",
              "9      CASH                         2                              1   \n",
              "\n",
              "   Benefit_per_order  Sales_per_customer    Delivery_Status  \\\n",
              "0          91.250000          314.640015   Advance shipping   \n",
              "1        -249.089996          311.359985      Late delivery   \n",
              "2        -247.779999          309.720001   Shipping on time   \n",
              "3          22.860001          304.809998   Advance shipping   \n",
              "4         134.210007          298.250000   Advance shipping   \n",
              "5          18.580000          294.980011  Shipping canceled   \n",
              "6          95.180000          288.420013      Late delivery   \n",
              "7          68.430000          285.140015      Late delivery   \n",
              "8         133.720001          278.589996      Late delivery   \n",
              "9         132.149994          275.309998      Late delivery   \n",
              "\n",
              "   Late_delivery_risk  Category_Id   Category_Name Customer_City  ...  \\\n",
              "0                   0           73  Sporting Goods        Caguas  ...   \n",
              "1                   1           73  Sporting Goods        Caguas  ...   \n",
              "2                   0           73  Sporting Goods      San Jose  ...   \n",
              "3                   0           73  Sporting Goods   Los Angeles  ...   \n",
              "4                   0           73  Sporting Goods        Caguas  ...   \n",
              "5                   0           73  Sporting Goods     Tonawanda  ...   \n",
              "6                   1           73  Sporting Goods        Caguas  ...   \n",
              "7                   1           73  Sporting Goods         Miami  ...   \n",
              "8                   1           73  Sporting Goods        Caguas  ...   \n",
              "9                   1           73  Sporting Goods     San Ramon  ...   \n",
              "\n",
              "  Order_Zipcode Product_Card_Id Product_Categor_Id  Product_Description  \\\n",
              "0           NaN            1360                 73                  NaN   \n",
              "1           NaN            1360                 73                  NaN   \n",
              "2           NaN            1360                 73                  NaN   \n",
              "3           NaN            1360                 73                  NaN   \n",
              "4           NaN            1360                 73                  NaN   \n",
              "5           NaN            1360                 73                  NaN   \n",
              "6           NaN            1360                 73                  NaN   \n",
              "7           NaN            1360                 73                  NaN   \n",
              "8           NaN            1360                 73                  NaN   \n",
              "9           NaN            1360                 73                  NaN   \n",
              "\n",
              "                                  Product_Image  Product_Name Product_Price  \\\n",
              "0  http://images.acmesports.sports/Smart+watch   Smart watch         327.75   \n",
              "1  http://images.acmesports.sports/Smart+watch   Smart watch         327.75   \n",
              "2  http://images.acmesports.sports/Smart+watch   Smart watch         327.75   \n",
              "3  http://images.acmesports.sports/Smart+watch   Smart watch         327.75   \n",
              "4  http://images.acmesports.sports/Smart+watch   Smart watch         327.75   \n",
              "5  http://images.acmesports.sports/Smart+watch   Smart watch         327.75   \n",
              "6  http://images.acmesports.sports/Smart+watch   Smart watch         327.75   \n",
              "7  http://images.acmesports.sports/Smart+watch   Smart watch         327.75   \n",
              "8  http://images.acmesports.sports/Smart+watch   Smart watch         327.75   \n",
              "9  http://images.acmesports.sports/Smart+watch   Smart watch         327.75   \n",
              "\n",
              "  Product_Status shipping_date_(DateOrders)   Shipping_Mode  \n",
              "0              0           02-03-2018 22:56  Standard Class  \n",
              "1              0            1/18/2018 12:27  Standard Class  \n",
              "2              0            1/17/2018 12:06  Standard Class  \n",
              "3              0            1/16/2018 11:45  Standard Class  \n",
              "4              0            1/15/2018 11:24  Standard Class  \n",
              "5              0            1/19/2018 11:03  Standard Class  \n",
              "6              0            1/15/2018 10:42     First Class  \n",
              "7              0            1/15/2018 10:21     First Class  \n",
              "8              0            1/16/2018 10:00    Second Class  \n",
              "9              0             1/15/2018 9:39     First Class  \n",
              "\n",
              "[10 rows x 53 columns]"
            ]
          },
          "execution_count": 3,
          "metadata": {},
          "output_type": "execute_result"
        }
      ],
      "source": [
        "# Read csv\n",
        "###df = pd.read_csv(\"F:/apurva documents/datasets/supply_chain/DataCoSupplyChainDataset.csv\")  gives error\n",
        "df = pd.read_csv(\"F:/apurva documents/datasets/supply_chain/DataCoSupplyChainDataset.csv\", encoding='latin-1')\n",
        "df.head(10)"
      ]
    },
    {
      "cell_type": "code",
      "execution_count": null,
      "id": "9092cb01",
      "metadata": {
        "id": "9092cb01",
        "outputId": "e49dc513-ae57-4b54-f26b-77000ef02258"
      },
      "outputs": [
        {
          "name": "stdout",
          "output_type": "stream",
          "text": [
            "<class 'pandas.core.frame.DataFrame'>\n",
            "RangeIndex: 180519 entries, 0 to 180518\n",
            "Data columns (total 53 columns):\n",
            " #   Column                         Non-Null Count   Dtype  \n",
            "---  ------                         --------------   -----  \n",
            " 0   Type                           180519 non-null  object \n",
            " 1   Days_for_shipping_(real)       180519 non-null  int64  \n",
            " 2   Days_for_shipment_(scheduled)  180519 non-null  int64  \n",
            " 3   Benefit_per_order              180519 non-null  float64\n",
            " 4   Sales_per_customer             180519 non-null  float64\n",
            " 5   Delivery_Status                180519 non-null  object \n",
            " 6   Late_delivery_risk             180519 non-null  int64  \n",
            " 7   Category_Id                    180519 non-null  int64  \n",
            " 8   Category_Name                  180519 non-null  object \n",
            " 9   Customer_City                  180519 non-null  object \n",
            " 10  Customer_Country               180519 non-null  object \n",
            " 11  Customer_Email                 180519 non-null  object \n",
            " 12  Customer_Fname                 180519 non-null  object \n",
            " 13  Customer_Id                    180519 non-null  int64  \n",
            " 14  Customer_Lname                 180511 non-null  object \n",
            " 15  Customer_Password              180519 non-null  object \n",
            " 16  Customer_Segment               180519 non-null  object \n",
            " 17  Customer_State                 180519 non-null  object \n",
            " 18  Customer_Street                180519 non-null  object \n",
            " 19  Customer_Zipcode               180516 non-null  float64\n",
            " 20  Department_Id                  180519 non-null  int64  \n",
            " 21  Department_Name                180519 non-null  object \n",
            " 22  Latitude                       180519 non-null  float64\n",
            " 23  Longitude                      180519 non-null  float64\n",
            " 24  Market                         180519 non-null  object \n",
            " 25  Order_City                     180519 non-null  object \n",
            " 26  Order_Country                  180519 non-null  object \n",
            " 27  Order_Customer_Id              180519 non-null  int64  \n",
            " 28  order_date_(DateOrders)        180519 non-null  object \n",
            " 29  Order_Id                       180519 non-null  int64  \n",
            " 30  Order_Item_Cardprod_Id         180519 non-null  int64  \n",
            " 31  Order_Item_Discount            180519 non-null  float64\n",
            " 32  Order_Item_Discount_Rate       180519 non-null  float64\n",
            " 33  Order_Item_Id                  180519 non-null  int64  \n",
            " 34  Order_Item_Product_Price       180519 non-null  float64\n",
            " 35  Order_Item_Profit_Ratio        180519 non-null  float64\n",
            " 36  Order_Item_Quantity            180519 non-null  int64  \n",
            " 37  Sales                          180519 non-null  float64\n",
            " 38  Order_Item_Total               180519 non-null  float64\n",
            " 39  Order_Profit_Per_Order         180519 non-null  float64\n",
            " 40  Order_Region                   180519 non-null  object \n",
            " 41  Order_State                    180519 non-null  object \n",
            " 42  Order_Status                   180519 non-null  object \n",
            " 43  Order_Zipcode                  24840 non-null   float64\n",
            " 44  Product_Card_Id                180519 non-null  int64  \n",
            " 45  Product_Categor_Id             180519 non-null  int64  \n",
            " 46  Product_Description            0 non-null       float64\n",
            " 47  Product_Image                  180519 non-null  object \n",
            " 48  Product_Name                   180519 non-null  object \n",
            " 49  Product_Price                  180519 non-null  float64\n",
            " 50  Product_Status                 180519 non-null  int64  \n",
            " 51  shipping_date_(DateOrders)     180519 non-null  object \n",
            " 52  Shipping_Mode                  180519 non-null  object \n",
            "dtypes: float64(15), int64(14), object(24)\n",
            "memory usage: 73.0+ MB\n"
          ]
        }
      ],
      "source": [
        "df.info()"
      ]
    },
    {
      "cell_type": "code",
      "execution_count": null,
      "id": "3d4ac1e4",
      "metadata": {
        "id": "3d4ac1e4",
        "outputId": "86c84673-6955-4e3e-9c22-5623354e0bba"
      },
      "outputs": [
        {
          "data": {
            "text/html": [
              "<div>\n",
              "<style scoped>\n",
              "    .dataframe tbody tr th:only-of-type {\n",
              "        vertical-align: middle;\n",
              "    }\n",
              "\n",
              "    .dataframe tbody tr th {\n",
              "        vertical-align: top;\n",
              "    }\n",
              "\n",
              "    .dataframe thead th {\n",
              "        text-align: right;\n",
              "    }\n",
              "</style>\n",
              "<table border=\"1\" class=\"dataframe\">\n",
              "  <thead>\n",
              "    <tr style=\"text-align: right;\">\n",
              "      <th></th>\n",
              "      <th>Days_for_shipping_(real)</th>\n",
              "      <th>Days_for_shipment_(scheduled)</th>\n",
              "      <th>Benefit_per_order</th>\n",
              "      <th>Sales_per_customer</th>\n",
              "      <th>Late_delivery_risk</th>\n",
              "      <th>Category_Id</th>\n",
              "      <th>Customer_Id</th>\n",
              "      <th>Customer_Zipcode</th>\n",
              "      <th>Department_Id</th>\n",
              "      <th>Latitude</th>\n",
              "      <th>...</th>\n",
              "      <th>Order_Item_Quantity</th>\n",
              "      <th>Sales</th>\n",
              "      <th>Order_Item_Total</th>\n",
              "      <th>Order_Profit_Per_Order</th>\n",
              "      <th>Order_Zipcode</th>\n",
              "      <th>Product_Card_Id</th>\n",
              "      <th>Product_Categor_Id</th>\n",
              "      <th>Product_Description</th>\n",
              "      <th>Product_Price</th>\n",
              "      <th>Product_Status</th>\n",
              "    </tr>\n",
              "  </thead>\n",
              "  <tbody>\n",
              "    <tr>\n",
              "      <th>count</th>\n",
              "      <td>180519.000000</td>\n",
              "      <td>180519.000000</td>\n",
              "      <td>180519.000000</td>\n",
              "      <td>180519.000000</td>\n",
              "      <td>180519.000000</td>\n",
              "      <td>180519.000000</td>\n",
              "      <td>180519.000000</td>\n",
              "      <td>180516.000000</td>\n",
              "      <td>180519.000000</td>\n",
              "      <td>180519.000000</td>\n",
              "      <td>...</td>\n",
              "      <td>180519.000000</td>\n",
              "      <td>180519.000000</td>\n",
              "      <td>180519.000000</td>\n",
              "      <td>180519.000000</td>\n",
              "      <td>24840.000000</td>\n",
              "      <td>180519.000000</td>\n",
              "      <td>180519.000000</td>\n",
              "      <td>0.0</td>\n",
              "      <td>180519.000000</td>\n",
              "      <td>180519.0</td>\n",
              "    </tr>\n",
              "    <tr>\n",
              "      <th>mean</th>\n",
              "      <td>3.497654</td>\n",
              "      <td>2.931847</td>\n",
              "      <td>21.974989</td>\n",
              "      <td>183.107609</td>\n",
              "      <td>0.548291</td>\n",
              "      <td>31.851451</td>\n",
              "      <td>6691.379495</td>\n",
              "      <td>35921.126914</td>\n",
              "      <td>5.443460</td>\n",
              "      <td>29.719955</td>\n",
              "      <td>...</td>\n",
              "      <td>2.127638</td>\n",
              "      <td>203.772096</td>\n",
              "      <td>183.107609</td>\n",
              "      <td>21.974989</td>\n",
              "      <td>55426.132327</td>\n",
              "      <td>692.509764</td>\n",
              "      <td>31.851451</td>\n",
              "      <td>NaN</td>\n",
              "      <td>141.232550</td>\n",
              "      <td>0.0</td>\n",
              "    </tr>\n",
              "    <tr>\n",
              "      <th>std</th>\n",
              "      <td>1.623722</td>\n",
              "      <td>1.374449</td>\n",
              "      <td>104.433526</td>\n",
              "      <td>120.043670</td>\n",
              "      <td>0.497664</td>\n",
              "      <td>15.640064</td>\n",
              "      <td>4162.918106</td>\n",
              "      <td>37542.461122</td>\n",
              "      <td>1.629246</td>\n",
              "      <td>9.813646</td>\n",
              "      <td>...</td>\n",
              "      <td>1.453451</td>\n",
              "      <td>132.273077</td>\n",
              "      <td>120.043670</td>\n",
              "      <td>104.433526</td>\n",
              "      <td>31919.279101</td>\n",
              "      <td>336.446807</td>\n",
              "      <td>15.640064</td>\n",
              "      <td>NaN</td>\n",
              "      <td>139.732492</td>\n",
              "      <td>0.0</td>\n",
              "    </tr>\n",
              "    <tr>\n",
              "      <th>min</th>\n",
              "      <td>0.000000</td>\n",
              "      <td>0.000000</td>\n",
              "      <td>-4274.979980</td>\n",
              "      <td>7.490000</td>\n",
              "      <td>0.000000</td>\n",
              "      <td>2.000000</td>\n",
              "      <td>1.000000</td>\n",
              "      <td>603.000000</td>\n",
              "      <td>2.000000</td>\n",
              "      <td>-33.937553</td>\n",
              "      <td>...</td>\n",
              "      <td>1.000000</td>\n",
              "      <td>9.990000</td>\n",
              "      <td>7.490000</td>\n",
              "      <td>-4274.979980</td>\n",
              "      <td>1040.000000</td>\n",
              "      <td>19.000000</td>\n",
              "      <td>2.000000</td>\n",
              "      <td>NaN</td>\n",
              "      <td>9.990000</td>\n",
              "      <td>0.0</td>\n",
              "    </tr>\n",
              "    <tr>\n",
              "      <th>25%</th>\n",
              "      <td>2.000000</td>\n",
              "      <td>2.000000</td>\n",
              "      <td>7.000000</td>\n",
              "      <td>104.379997</td>\n",
              "      <td>0.000000</td>\n",
              "      <td>18.000000</td>\n",
              "      <td>3258.500000</td>\n",
              "      <td>725.000000</td>\n",
              "      <td>4.000000</td>\n",
              "      <td>18.265432</td>\n",
              "      <td>...</td>\n",
              "      <td>1.000000</td>\n",
              "      <td>119.980003</td>\n",
              "      <td>104.379997</td>\n",
              "      <td>7.000000</td>\n",
              "      <td>23464.000000</td>\n",
              "      <td>403.000000</td>\n",
              "      <td>18.000000</td>\n",
              "      <td>NaN</td>\n",
              "      <td>50.000000</td>\n",
              "      <td>0.0</td>\n",
              "    </tr>\n",
              "    <tr>\n",
              "      <th>50%</th>\n",
              "      <td>3.000000</td>\n",
              "      <td>4.000000</td>\n",
              "      <td>31.520000</td>\n",
              "      <td>163.990005</td>\n",
              "      <td>1.000000</td>\n",
              "      <td>29.000000</td>\n",
              "      <td>6457.000000</td>\n",
              "      <td>19380.000000</td>\n",
              "      <td>5.000000</td>\n",
              "      <td>33.144863</td>\n",
              "      <td>...</td>\n",
              "      <td>1.000000</td>\n",
              "      <td>199.919998</td>\n",
              "      <td>163.990005</td>\n",
              "      <td>31.520000</td>\n",
              "      <td>59405.000000</td>\n",
              "      <td>627.000000</td>\n",
              "      <td>29.000000</td>\n",
              "      <td>NaN</td>\n",
              "      <td>59.990002</td>\n",
              "      <td>0.0</td>\n",
              "    </tr>\n",
              "    <tr>\n",
              "      <th>75%</th>\n",
              "      <td>5.000000</td>\n",
              "      <td>4.000000</td>\n",
              "      <td>64.800003</td>\n",
              "      <td>247.399994</td>\n",
              "      <td>1.000000</td>\n",
              "      <td>45.000000</td>\n",
              "      <td>9779.000000</td>\n",
              "      <td>78207.000000</td>\n",
              "      <td>7.000000</td>\n",
              "      <td>39.279617</td>\n",
              "      <td>...</td>\n",
              "      <td>3.000000</td>\n",
              "      <td>299.950012</td>\n",
              "      <td>247.399994</td>\n",
              "      <td>64.800003</td>\n",
              "      <td>90008.000000</td>\n",
              "      <td>1004.000000</td>\n",
              "      <td>45.000000</td>\n",
              "      <td>NaN</td>\n",
              "      <td>199.990005</td>\n",
              "      <td>0.0</td>\n",
              "    </tr>\n",
              "    <tr>\n",
              "      <th>max</th>\n",
              "      <td>6.000000</td>\n",
              "      <td>4.000000</td>\n",
              "      <td>911.799988</td>\n",
              "      <td>1939.989990</td>\n",
              "      <td>1.000000</td>\n",
              "      <td>76.000000</td>\n",
              "      <td>20757.000000</td>\n",
              "      <td>99205.000000</td>\n",
              "      <td>12.000000</td>\n",
              "      <td>48.781933</td>\n",
              "      <td>...</td>\n",
              "      <td>5.000000</td>\n",
              "      <td>1999.989990</td>\n",
              "      <td>1939.989990</td>\n",
              "      <td>911.799988</td>\n",
              "      <td>99301.000000</td>\n",
              "      <td>1363.000000</td>\n",
              "      <td>76.000000</td>\n",
              "      <td>NaN</td>\n",
              "      <td>1999.989990</td>\n",
              "      <td>0.0</td>\n",
              "    </tr>\n",
              "  </tbody>\n",
              "</table>\n",
              "<p>8 rows × 29 columns</p>\n",
              "</div>"
            ],
            "text/plain": [
              "       Days_for_shipping_(real)  Days_for_shipment_(scheduled)  \\\n",
              "count             180519.000000                  180519.000000   \n",
              "mean                   3.497654                       2.931847   \n",
              "std                    1.623722                       1.374449   \n",
              "min                    0.000000                       0.000000   \n",
              "25%                    2.000000                       2.000000   \n",
              "50%                    3.000000                       4.000000   \n",
              "75%                    5.000000                       4.000000   \n",
              "max                    6.000000                       4.000000   \n",
              "\n",
              "       Benefit_per_order  Sales_per_customer  Late_delivery_risk  \\\n",
              "count      180519.000000       180519.000000       180519.000000   \n",
              "mean           21.974989          183.107609            0.548291   \n",
              "std           104.433526          120.043670            0.497664   \n",
              "min         -4274.979980            7.490000            0.000000   \n",
              "25%             7.000000          104.379997            0.000000   \n",
              "50%            31.520000          163.990005            1.000000   \n",
              "75%            64.800003          247.399994            1.000000   \n",
              "max           911.799988         1939.989990            1.000000   \n",
              "\n",
              "         Category_Id    Customer_Id  Customer_Zipcode  Department_Id  \\\n",
              "count  180519.000000  180519.000000     180516.000000  180519.000000   \n",
              "mean       31.851451    6691.379495      35921.126914       5.443460   \n",
              "std        15.640064    4162.918106      37542.461122       1.629246   \n",
              "min         2.000000       1.000000        603.000000       2.000000   \n",
              "25%        18.000000    3258.500000        725.000000       4.000000   \n",
              "50%        29.000000    6457.000000      19380.000000       5.000000   \n",
              "75%        45.000000    9779.000000      78207.000000       7.000000   \n",
              "max        76.000000   20757.000000      99205.000000      12.000000   \n",
              "\n",
              "            Latitude  ...  Order_Item_Quantity          Sales  \\\n",
              "count  180519.000000  ...        180519.000000  180519.000000   \n",
              "mean       29.719955  ...             2.127638     203.772096   \n",
              "std         9.813646  ...             1.453451     132.273077   \n",
              "min       -33.937553  ...             1.000000       9.990000   \n",
              "25%        18.265432  ...             1.000000     119.980003   \n",
              "50%        33.144863  ...             1.000000     199.919998   \n",
              "75%        39.279617  ...             3.000000     299.950012   \n",
              "max        48.781933  ...             5.000000    1999.989990   \n",
              "\n",
              "       Order_Item_Total  Order_Profit_Per_Order  Order_Zipcode  \\\n",
              "count     180519.000000           180519.000000   24840.000000   \n",
              "mean         183.107609               21.974989   55426.132327   \n",
              "std          120.043670              104.433526   31919.279101   \n",
              "min            7.490000            -4274.979980    1040.000000   \n",
              "25%          104.379997                7.000000   23464.000000   \n",
              "50%          163.990005               31.520000   59405.000000   \n",
              "75%          247.399994               64.800003   90008.000000   \n",
              "max         1939.989990              911.799988   99301.000000   \n",
              "\n",
              "       Product_Card_Id  Product_Categor_Id  Product_Description  \\\n",
              "count    180519.000000       180519.000000                  0.0   \n",
              "mean        692.509764           31.851451                  NaN   \n",
              "std         336.446807           15.640064                  NaN   \n",
              "min          19.000000            2.000000                  NaN   \n",
              "25%         403.000000           18.000000                  NaN   \n",
              "50%         627.000000           29.000000                  NaN   \n",
              "75%        1004.000000           45.000000                  NaN   \n",
              "max        1363.000000           76.000000                  NaN   \n",
              "\n",
              "       Product_Price  Product_Status  \n",
              "count  180519.000000        180519.0  \n",
              "mean      141.232550             0.0  \n",
              "std       139.732492             0.0  \n",
              "min         9.990000             0.0  \n",
              "25%        50.000000             0.0  \n",
              "50%        59.990002             0.0  \n",
              "75%       199.990005             0.0  \n",
              "max      1999.989990             0.0  \n",
              "\n",
              "[8 rows x 29 columns]"
            ]
          },
          "execution_count": 5,
          "metadata": {},
          "output_type": "execute_result"
        }
      ],
      "source": [
        "df.describe()"
      ]
    },
    {
      "cell_type": "code",
      "execution_count": null,
      "id": "7fa072f9",
      "metadata": {
        "id": "7fa072f9",
        "outputId": "7e826de8-5eda-4c2c-9220-04d0bfc871c0"
      },
      "outputs": [
        {
          "data": {
            "text/plain": [
              "Index(['Type', 'Days_for_shipping_(real)', 'Days_for_shipment_(scheduled)',\n",
              "       'Benefit_per_order', 'Sales_per_customer', 'Delivery_Status',\n",
              "       'Late_delivery_risk', 'Category_Id', 'Category_Name', 'Customer_City',\n",
              "       'Customer_Country', 'Customer_Email', 'Customer_Fname', 'Customer_Id',\n",
              "       'Customer_Lname', 'Customer_Password', 'Customer_Segment',\n",
              "       'Customer_State', 'Customer_Street', 'Customer_Zipcode',\n",
              "       'Department_Id', 'Department_Name', 'Latitude', 'Longitude', 'Market',\n",
              "       'Order_City', 'Order_Country', 'Order_Customer_Id',\n",
              "       'order_date_(DateOrders)', 'Order_Id', 'Order_Item_Cardprod_Id',\n",
              "       'Order_Item_Discount', 'Order_Item_Discount_Rate', 'Order_Item_Id',\n",
              "       'Order_Item_Product_Price', 'Order_Item_Profit_Ratio',\n",
              "       'Order_Item_Quantity', 'Sales', 'Order_Item_Total',\n",
              "       'Order_Profit_Per_Order', 'Order_Region', 'Order_State', 'Order_Status',\n",
              "       'Order_Zipcode', 'Product_Card_Id', 'Product_Categor_Id',\n",
              "       'Product_Description', 'Product_Image', 'Product_Name', 'Product_Price',\n",
              "       'Product_Status', 'shipping_date_(DateOrders)', 'Shipping_Mode'],\n",
              "      dtype='object')"
            ]
          },
          "execution_count": 6,
          "metadata": {},
          "output_type": "execute_result"
        }
      ],
      "source": [
        "df.columns"
      ]
    },
    {
      "cell_type": "markdown",
      "id": "5cb434bf",
      "metadata": {
        "id": "5cb434bf"
      },
      "source": [
        "#### In Data Analysis What All Things We Do\n",
        "     Missing Values\n",
        "     Explore About the Numerical Variables\n",
        "     Explore About categorical Variables\n",
        "     Finding Relationship between features"
      ]
    },
    {
      "cell_type": "code",
      "execution_count": null,
      "id": "ed5e8224",
      "metadata": {
        "id": "ed5e8224",
        "outputId": "fd80f11c-f2c0-408e-938c-dcfd2055b420"
      },
      "outputs": [
        {
          "data": {
            "text/plain": [
              "(180519, 53)"
            ]
          },
          "execution_count": 7,
          "metadata": {},
          "output_type": "execute_result"
        }
      ],
      "source": [
        "df.shape"
      ]
    },
    {
      "cell_type": "code",
      "execution_count": null,
      "id": "5dc5ac66",
      "metadata": {
        "id": "5dc5ac66",
        "outputId": "af620427-4c8a-4840-fa05-83c5dcf7d74d"
      },
      "outputs": [
        {
          "data": {
            "text/plain": [
              "Type                                  0\n",
              "Days_for_shipping_(real)              0\n",
              "Days_for_shipment_(scheduled)         0\n",
              "Benefit_per_order                     0\n",
              "Sales_per_customer                    0\n",
              "Delivery_Status                       0\n",
              "Late_delivery_risk                    0\n",
              "Category_Id                           0\n",
              "Category_Name                         0\n",
              "Customer_City                         0\n",
              "Customer_Country                      0\n",
              "Customer_Email                        0\n",
              "Customer_Fname                        0\n",
              "Customer_Id                           0\n",
              "Customer_Lname                        8\n",
              "Customer_Password                     0\n",
              "Customer_Segment                      0\n",
              "Customer_State                        0\n",
              "Customer_Street                       0\n",
              "Customer_Zipcode                      3\n",
              "Department_Id                         0\n",
              "Department_Name                       0\n",
              "Latitude                              0\n",
              "Longitude                             0\n",
              "Market                                0\n",
              "Order_City                            0\n",
              "Order_Country                         0\n",
              "Order_Customer_Id                     0\n",
              "order_date_(DateOrders)               0\n",
              "Order_Id                              0\n",
              "Order_Item_Cardprod_Id                0\n",
              "Order_Item_Discount                   0\n",
              "Order_Item_Discount_Rate              0\n",
              "Order_Item_Id                         0\n",
              "Order_Item_Product_Price              0\n",
              "Order_Item_Profit_Ratio               0\n",
              "Order_Item_Quantity                   0\n",
              "Sales                                 0\n",
              "Order_Item_Total                      0\n",
              "Order_Profit_Per_Order                0\n",
              "Order_Region                          0\n",
              "Order_State                           0\n",
              "Order_Status                          0\n",
              "Order_Zipcode                    155679\n",
              "Product_Card_Id                       0\n",
              "Product_Categor_Id                    0\n",
              "Product_Description              180519\n",
              "Product_Image                         0\n",
              "Product_Name                          0\n",
              "Product_Price                         0\n",
              "Product_Status                        0\n",
              "shipping_date_(DateOrders)            0\n",
              "Shipping_Mode                         0\n",
              "dtype: int64"
            ]
          },
          "execution_count": 8,
          "metadata": {},
          "output_type": "execute_result"
        }
      ],
      "source": [
        "df.isnull().sum()"
      ]
    },
    {
      "cell_type": "code",
      "execution_count": null,
      "id": "7e27817a",
      "metadata": {
        "id": "7e27817a"
      },
      "outputs": [],
      "source": [
        "# Drop the specified columns\n",
        "df = df.drop(['Customer_Lname', 'Customer_Zipcode', 'Order_Zipcode', 'Product_Description'], axis=1)"
      ]
    },
    {
      "cell_type": "code",
      "execution_count": null,
      "id": "cf4f18f3",
      "metadata": {
        "id": "cf4f18f3",
        "outputId": "5d76378c-bcdf-4383-89f5-509cb281ff68"
      },
      "outputs": [
        {
          "data": {
            "text/html": [
              "<div>\n",
              "<style scoped>\n",
              "    .dataframe tbody tr th:only-of-type {\n",
              "        vertical-align: middle;\n",
              "    }\n",
              "\n",
              "    .dataframe tbody tr th {\n",
              "        vertical-align: top;\n",
              "    }\n",
              "\n",
              "    .dataframe thead th {\n",
              "        text-align: right;\n",
              "    }\n",
              "</style>\n",
              "<table border=\"1\" class=\"dataframe\">\n",
              "  <thead>\n",
              "    <tr style=\"text-align: right;\">\n",
              "      <th></th>\n",
              "      <th>Type</th>\n",
              "      <th>Days_for_shipping_(real)</th>\n",
              "      <th>Days_for_shipment_(scheduled)</th>\n",
              "      <th>Benefit_per_order</th>\n",
              "      <th>Sales_per_customer</th>\n",
              "      <th>Delivery_Status</th>\n",
              "      <th>Late_delivery_risk</th>\n",
              "      <th>Category_Id</th>\n",
              "      <th>Category_Name</th>\n",
              "      <th>Customer_City</th>\n",
              "      <th>...</th>\n",
              "      <th>Order_State</th>\n",
              "      <th>Order_Status</th>\n",
              "      <th>Product_Card_Id</th>\n",
              "      <th>Product_Categor_Id</th>\n",
              "      <th>Product_Image</th>\n",
              "      <th>Product_Name</th>\n",
              "      <th>Product_Price</th>\n",
              "      <th>Product_Status</th>\n",
              "      <th>shipping_date_(DateOrders)</th>\n",
              "      <th>Shipping_Mode</th>\n",
              "    </tr>\n",
              "  </thead>\n",
              "  <tbody>\n",
              "    <tr>\n",
              "      <th>0</th>\n",
              "      <td>DEBIT</td>\n",
              "      <td>3</td>\n",
              "      <td>4</td>\n",
              "      <td>91.250000</td>\n",
              "      <td>314.640015</td>\n",
              "      <td>Advance shipping</td>\n",
              "      <td>0</td>\n",
              "      <td>73</td>\n",
              "      <td>Sporting Goods</td>\n",
              "      <td>Caguas</td>\n",
              "      <td>...</td>\n",
              "      <td>Java Occidental</td>\n",
              "      <td>COMPLETE</td>\n",
              "      <td>1360</td>\n",
              "      <td>73</td>\n",
              "      <td>http://images.acmesports.sports/Smart+watch</td>\n",
              "      <td>Smart watch</td>\n",
              "      <td>327.75</td>\n",
              "      <td>0</td>\n",
              "      <td>02-03-2018 22:56</td>\n",
              "      <td>Standard Class</td>\n",
              "    </tr>\n",
              "    <tr>\n",
              "      <th>1</th>\n",
              "      <td>TRANSFER</td>\n",
              "      <td>5</td>\n",
              "      <td>4</td>\n",
              "      <td>-249.089996</td>\n",
              "      <td>311.359985</td>\n",
              "      <td>Late delivery</td>\n",
              "      <td>1</td>\n",
              "      <td>73</td>\n",
              "      <td>Sporting Goods</td>\n",
              "      <td>Caguas</td>\n",
              "      <td>...</td>\n",
              "      <td>Rajastán</td>\n",
              "      <td>PENDING</td>\n",
              "      <td>1360</td>\n",
              "      <td>73</td>\n",
              "      <td>http://images.acmesports.sports/Smart+watch</td>\n",
              "      <td>Smart watch</td>\n",
              "      <td>327.75</td>\n",
              "      <td>0</td>\n",
              "      <td>1/18/2018 12:27</td>\n",
              "      <td>Standard Class</td>\n",
              "    </tr>\n",
              "    <tr>\n",
              "      <th>2</th>\n",
              "      <td>CASH</td>\n",
              "      <td>4</td>\n",
              "      <td>4</td>\n",
              "      <td>-247.779999</td>\n",
              "      <td>309.720001</td>\n",
              "      <td>Shipping on time</td>\n",
              "      <td>0</td>\n",
              "      <td>73</td>\n",
              "      <td>Sporting Goods</td>\n",
              "      <td>San Jose</td>\n",
              "      <td>...</td>\n",
              "      <td>Rajastán</td>\n",
              "      <td>CLOSED</td>\n",
              "      <td>1360</td>\n",
              "      <td>73</td>\n",
              "      <td>http://images.acmesports.sports/Smart+watch</td>\n",
              "      <td>Smart watch</td>\n",
              "      <td>327.75</td>\n",
              "      <td>0</td>\n",
              "      <td>1/17/2018 12:06</td>\n",
              "      <td>Standard Class</td>\n",
              "    </tr>\n",
              "    <tr>\n",
              "      <th>3</th>\n",
              "      <td>DEBIT</td>\n",
              "      <td>3</td>\n",
              "      <td>4</td>\n",
              "      <td>22.860001</td>\n",
              "      <td>304.809998</td>\n",
              "      <td>Advance shipping</td>\n",
              "      <td>0</td>\n",
              "      <td>73</td>\n",
              "      <td>Sporting Goods</td>\n",
              "      <td>Los Angeles</td>\n",
              "      <td>...</td>\n",
              "      <td>Queensland</td>\n",
              "      <td>COMPLETE</td>\n",
              "      <td>1360</td>\n",
              "      <td>73</td>\n",
              "      <td>http://images.acmesports.sports/Smart+watch</td>\n",
              "      <td>Smart watch</td>\n",
              "      <td>327.75</td>\n",
              "      <td>0</td>\n",
              "      <td>1/16/2018 11:45</td>\n",
              "      <td>Standard Class</td>\n",
              "    </tr>\n",
              "    <tr>\n",
              "      <th>4</th>\n",
              "      <td>PAYMENT</td>\n",
              "      <td>2</td>\n",
              "      <td>4</td>\n",
              "      <td>134.210007</td>\n",
              "      <td>298.250000</td>\n",
              "      <td>Advance shipping</td>\n",
              "      <td>0</td>\n",
              "      <td>73</td>\n",
              "      <td>Sporting Goods</td>\n",
              "      <td>Caguas</td>\n",
              "      <td>...</td>\n",
              "      <td>Queensland</td>\n",
              "      <td>PENDING_PAYMENT</td>\n",
              "      <td>1360</td>\n",
              "      <td>73</td>\n",
              "      <td>http://images.acmesports.sports/Smart+watch</td>\n",
              "      <td>Smart watch</td>\n",
              "      <td>327.75</td>\n",
              "      <td>0</td>\n",
              "      <td>1/15/2018 11:24</td>\n",
              "      <td>Standard Class</td>\n",
              "    </tr>\n",
              "  </tbody>\n",
              "</table>\n",
              "<p>5 rows × 49 columns</p>\n",
              "</div>"
            ],
            "text/plain": [
              "       Type  Days_for_shipping_(real)  Days_for_shipment_(scheduled)  \\\n",
              "0     DEBIT                         3                              4   \n",
              "1  TRANSFER                         5                              4   \n",
              "2      CASH                         4                              4   \n",
              "3     DEBIT                         3                              4   \n",
              "4   PAYMENT                         2                              4   \n",
              "\n",
              "   Benefit_per_order  Sales_per_customer   Delivery_Status  \\\n",
              "0          91.250000          314.640015  Advance shipping   \n",
              "1        -249.089996          311.359985     Late delivery   \n",
              "2        -247.779999          309.720001  Shipping on time   \n",
              "3          22.860001          304.809998  Advance shipping   \n",
              "4         134.210007          298.250000  Advance shipping   \n",
              "\n",
              "   Late_delivery_risk  Category_Id   Category_Name Customer_City  ...  \\\n",
              "0                   0           73  Sporting Goods        Caguas  ...   \n",
              "1                   1           73  Sporting Goods        Caguas  ...   \n",
              "2                   0           73  Sporting Goods      San Jose  ...   \n",
              "3                   0           73  Sporting Goods   Los Angeles  ...   \n",
              "4                   0           73  Sporting Goods        Caguas  ...   \n",
              "\n",
              "       Order_State     Order_Status Product_Card_Id  Product_Categor_Id  \\\n",
              "0  Java Occidental         COMPLETE            1360                  73   \n",
              "1         Rajastán          PENDING            1360                  73   \n",
              "2         Rajastán           CLOSED            1360                  73   \n",
              "3       Queensland         COMPLETE            1360                  73   \n",
              "4       Queensland  PENDING_PAYMENT            1360                  73   \n",
              "\n",
              "                                  Product_Image  Product_Name Product_Price  \\\n",
              "0  http://images.acmesports.sports/Smart+watch   Smart watch         327.75   \n",
              "1  http://images.acmesports.sports/Smart+watch   Smart watch         327.75   \n",
              "2  http://images.acmesports.sports/Smart+watch   Smart watch         327.75   \n",
              "3  http://images.acmesports.sports/Smart+watch   Smart watch         327.75   \n",
              "4  http://images.acmesports.sports/Smart+watch   Smart watch         327.75   \n",
              "\n",
              "  Product_Status  shipping_date_(DateOrders)   Shipping_Mode  \n",
              "0              0            02-03-2018 22:56  Standard Class  \n",
              "1              0             1/18/2018 12:27  Standard Class  \n",
              "2              0             1/17/2018 12:06  Standard Class  \n",
              "3              0             1/16/2018 11:45  Standard Class  \n",
              "4              0             1/15/2018 11:24  Standard Class  \n",
              "\n",
              "[5 rows x 49 columns]"
            ]
          },
          "execution_count": 10,
          "metadata": {},
          "output_type": "execute_result"
        }
      ],
      "source": [
        "df.head(5)"
      ]
    },
    {
      "cell_type": "code",
      "execution_count": null,
      "id": "18e2be26",
      "metadata": {
        "id": "18e2be26"
      },
      "outputs": [],
      "source": [
        "##List all the cities and the respective number of pending orders in 'India'?"
      ]
    },
    {
      "cell_type": "code",
      "execution_count": null,
      "id": "7276eb25",
      "metadata": {
        "id": "7276eb25",
        "outputId": "e0256149-5143-47e2-9f51-acfbe9e5141b"
      },
      "outputs": [
        {
          "data": {
            "text/html": [
              "<div>\n",
              "<style scoped>\n",
              "    .dataframe tbody tr th:only-of-type {\n",
              "        vertical-align: middle;\n",
              "    }\n",
              "\n",
              "    .dataframe tbody tr th {\n",
              "        vertical-align: top;\n",
              "    }\n",
              "\n",
              "    .dataframe thead th {\n",
              "        text-align: right;\n",
              "    }\n",
              "</style>\n",
              "<table border=\"1\" class=\"dataframe\">\n",
              "  <thead>\n",
              "    <tr style=\"text-align: right;\">\n",
              "      <th></th>\n",
              "      <th>Type</th>\n",
              "      <th>Days_for_shipping_(real)</th>\n",
              "      <th>Days_for_shipment_(scheduled)</th>\n",
              "      <th>Benefit_per_order</th>\n",
              "      <th>Sales_per_customer</th>\n",
              "      <th>Delivery_Status</th>\n",
              "      <th>Late_delivery_risk</th>\n",
              "      <th>Category_Id</th>\n",
              "      <th>Category_Name</th>\n",
              "      <th>Customer_City</th>\n",
              "      <th>...</th>\n",
              "      <th>Order_State</th>\n",
              "      <th>Order_Status</th>\n",
              "      <th>Product_Card_Id</th>\n",
              "      <th>Product_Categor_Id</th>\n",
              "      <th>Product_Image</th>\n",
              "      <th>Product_Name</th>\n",
              "      <th>Product_Price</th>\n",
              "      <th>Product_Status</th>\n",
              "      <th>shipping_date_(DateOrders)</th>\n",
              "      <th>Shipping_Mode</th>\n",
              "    </tr>\n",
              "  </thead>\n",
              "  <tbody>\n",
              "    <tr>\n",
              "      <th>1</th>\n",
              "      <td>TRANSFER</td>\n",
              "      <td>5</td>\n",
              "      <td>4</td>\n",
              "      <td>-249.089996</td>\n",
              "      <td>311.359985</td>\n",
              "      <td>Late delivery</td>\n",
              "      <td>1</td>\n",
              "      <td>73</td>\n",
              "      <td>Sporting Goods</td>\n",
              "      <td>Caguas</td>\n",
              "      <td>...</td>\n",
              "      <td>Rajastán</td>\n",
              "      <td>PENDING</td>\n",
              "      <td>1360</td>\n",
              "      <td>73</td>\n",
              "      <td>http://images.acmesports.sports/Smart+watch</td>\n",
              "      <td>Smart watch</td>\n",
              "      <td>327.750000</td>\n",
              "      <td>0</td>\n",
              "      <td>1/18/2018 12:27</td>\n",
              "      <td>Standard Class</td>\n",
              "    </tr>\n",
              "    <tr>\n",
              "      <th>21</th>\n",
              "      <td>TRANSFER</td>\n",
              "      <td>5</td>\n",
              "      <td>4</td>\n",
              "      <td>82.300003</td>\n",
              "      <td>304.809998</td>\n",
              "      <td>Late delivery</td>\n",
              "      <td>1</td>\n",
              "      <td>73</td>\n",
              "      <td>Sporting Goods</td>\n",
              "      <td>Caguas</td>\n",
              "      <td>...</td>\n",
              "      <td>Madhya Pradesh</td>\n",
              "      <td>PENDING</td>\n",
              "      <td>1360</td>\n",
              "      <td>73</td>\n",
              "      <td>http://images.acmesports.sports/Smart+watch</td>\n",
              "      <td>Smart watch</td>\n",
              "      <td>327.750000</td>\n",
              "      <td>0</td>\n",
              "      <td>1/18/2018 5:27</td>\n",
              "      <td>Standard Class</td>\n",
              "    </tr>\n",
              "    <tr>\n",
              "      <th>45</th>\n",
              "      <td>TRANSFER</td>\n",
              "      <td>6</td>\n",
              "      <td>4</td>\n",
              "      <td>86.169998</td>\n",
              "      <td>275.309998</td>\n",
              "      <td>Late delivery</td>\n",
              "      <td>1</td>\n",
              "      <td>73</td>\n",
              "      <td>Sporting Goods</td>\n",
              "      <td>Caguas</td>\n",
              "      <td>...</td>\n",
              "      <td>Karnataka</td>\n",
              "      <td>PENDING</td>\n",
              "      <td>1360</td>\n",
              "      <td>73</td>\n",
              "      <td>http://images.acmesports.sports/Smart+watch</td>\n",
              "      <td>Smart watch</td>\n",
              "      <td>327.750000</td>\n",
              "      <td>0</td>\n",
              "      <td>1/18/2018 21:02</td>\n",
              "      <td>Standard Class</td>\n",
              "    </tr>\n",
              "    <tr>\n",
              "      <th>46</th>\n",
              "      <td>TRANSFER</td>\n",
              "      <td>5</td>\n",
              "      <td>2</td>\n",
              "      <td>130.580002</td>\n",
              "      <td>272.029999</td>\n",
              "      <td>Late delivery</td>\n",
              "      <td>1</td>\n",
              "      <td>73</td>\n",
              "      <td>Sporting Goods</td>\n",
              "      <td>Rochester</td>\n",
              "      <td>...</td>\n",
              "      <td>Karnataka</td>\n",
              "      <td>PENDING</td>\n",
              "      <td>1360</td>\n",
              "      <td>73</td>\n",
              "      <td>http://images.acmesports.sports/Smart+watch</td>\n",
              "      <td>Smart watch</td>\n",
              "      <td>327.750000</td>\n",
              "      <td>0</td>\n",
              "      <td>1/17/2018 20:41</td>\n",
              "      <td>Second Class</td>\n",
              "    </tr>\n",
              "    <tr>\n",
              "      <th>382</th>\n",
              "      <td>TRANSFER</td>\n",
              "      <td>3</td>\n",
              "      <td>4</td>\n",
              "      <td>144.210007</td>\n",
              "      <td>327.750000</td>\n",
              "      <td>Advance shipping</td>\n",
              "      <td>0</td>\n",
              "      <td>73</td>\n",
              "      <td>Sporting Goods</td>\n",
              "      <td>Caguas</td>\n",
              "      <td>...</td>\n",
              "      <td>Maharashtra</td>\n",
              "      <td>PENDING</td>\n",
              "      <td>1360</td>\n",
              "      <td>73</td>\n",
              "      <td>http://images.acmesports.sports/Smart+watch</td>\n",
              "      <td>Smart watch</td>\n",
              "      <td>327.750000</td>\n",
              "      <td>0</td>\n",
              "      <td>1/15/2018 12:59</td>\n",
              "      <td>Standard Class</td>\n",
              "    </tr>\n",
              "    <tr>\n",
              "      <th>...</th>\n",
              "      <td>...</td>\n",
              "      <td>...</td>\n",
              "      <td>...</td>\n",
              "      <td>...</td>\n",
              "      <td>...</td>\n",
              "      <td>...</td>\n",
              "      <td>...</td>\n",
              "      <td>...</td>\n",
              "      <td>...</td>\n",
              "      <td>...</td>\n",
              "      <td>...</td>\n",
              "      <td>...</td>\n",
              "      <td>...</td>\n",
              "      <td>...</td>\n",
              "      <td>...</td>\n",
              "      <td>...</td>\n",
              "      <td>...</td>\n",
              "      <td>...</td>\n",
              "      <td>...</td>\n",
              "      <td>...</td>\n",
              "      <td>...</td>\n",
              "    </tr>\n",
              "    <tr>\n",
              "      <th>180142</th>\n",
              "      <td>TRANSFER</td>\n",
              "      <td>4</td>\n",
              "      <td>4</td>\n",
              "      <td>68.040001</td>\n",
              "      <td>377.980011</td>\n",
              "      <td>Shipping on time</td>\n",
              "      <td>0</td>\n",
              "      <td>45</td>\n",
              "      <td>Fishing</td>\n",
              "      <td>Caguas</td>\n",
              "      <td>...</td>\n",
              "      <td>Odisha</td>\n",
              "      <td>PENDING</td>\n",
              "      <td>1004</td>\n",
              "      <td>45</td>\n",
              "      <td>http://images.acmesports.sports/Field+%26+Stre...</td>\n",
              "      <td>Field &amp; Stream Sportsman 16 Gun Fire Safe</td>\n",
              "      <td>399.980011</td>\n",
              "      <td>0</td>\n",
              "      <td>02-10-2016 18:10</td>\n",
              "      <td>Standard Class</td>\n",
              "    </tr>\n",
              "    <tr>\n",
              "      <th>180164</th>\n",
              "      <td>TRANSFER</td>\n",
              "      <td>2</td>\n",
              "      <td>1</td>\n",
              "      <td>123.190002</td>\n",
              "      <td>351.980011</td>\n",
              "      <td>Late delivery</td>\n",
              "      <td>1</td>\n",
              "      <td>45</td>\n",
              "      <td>Fishing</td>\n",
              "      <td>Caguas</td>\n",
              "      <td>...</td>\n",
              "      <td>Uttar Pradesh</td>\n",
              "      <td>PENDING</td>\n",
              "      <td>1004</td>\n",
              "      <td>45</td>\n",
              "      <td>http://images.acmesports.sports/Field+%26+Stre...</td>\n",
              "      <td>Field &amp; Stream Sportsman 16 Gun Fire Safe</td>\n",
              "      <td>399.980011</td>\n",
              "      <td>0</td>\n",
              "      <td>02-07-2016 10:18</td>\n",
              "      <td>First Class</td>\n",
              "    </tr>\n",
              "    <tr>\n",
              "      <th>180248</th>\n",
              "      <td>TRANSFER</td>\n",
              "      <td>5</td>\n",
              "      <td>2</td>\n",
              "      <td>115.190002</td>\n",
              "      <td>383.980011</td>\n",
              "      <td>Late delivery</td>\n",
              "      <td>1</td>\n",
              "      <td>45</td>\n",
              "      <td>Fishing</td>\n",
              "      <td>Las Vegas</td>\n",
              "      <td>...</td>\n",
              "      <td>Madhya Pradesh</td>\n",
              "      <td>PENDING</td>\n",
              "      <td>1004</td>\n",
              "      <td>45</td>\n",
              "      <td>http://images.acmesports.sports/Field+%26+Stre...</td>\n",
              "      <td>Field &amp; Stream Sportsman 16 Gun Fire Safe</td>\n",
              "      <td>399.980011</td>\n",
              "      <td>0</td>\n",
              "      <td>02-04-2016 18:22</td>\n",
              "      <td>Second Class</td>\n",
              "    </tr>\n",
              "    <tr>\n",
              "      <th>180331</th>\n",
              "      <td>TRANSFER</td>\n",
              "      <td>3</td>\n",
              "      <td>4</td>\n",
              "      <td>-103.970001</td>\n",
              "      <td>327.980011</td>\n",
              "      <td>Advance shipping</td>\n",
              "      <td>0</td>\n",
              "      <td>45</td>\n",
              "      <td>Fishing</td>\n",
              "      <td>East Brunswick</td>\n",
              "      <td>...</td>\n",
              "      <td>Rajastán</td>\n",
              "      <td>PENDING</td>\n",
              "      <td>1004</td>\n",
              "      <td>45</td>\n",
              "      <td>http://images.acmesports.sports/Field+%26+Stre...</td>\n",
              "      <td>Field &amp; Stream Sportsman 16 Gun Fire Safe</td>\n",
              "      <td>399.980011</td>\n",
              "      <td>0</td>\n",
              "      <td>1/29/2016 1:33</td>\n",
              "      <td>Standard Class</td>\n",
              "    </tr>\n",
              "    <tr>\n",
              "      <th>180405</th>\n",
              "      <td>TRANSFER</td>\n",
              "      <td>2</td>\n",
              "      <td>4</td>\n",
              "      <td>81.000000</td>\n",
              "      <td>299.989990</td>\n",
              "      <td>Advance shipping</td>\n",
              "      <td>0</td>\n",
              "      <td>45</td>\n",
              "      <td>Fishing</td>\n",
              "      <td>Phoenix</td>\n",
              "      <td>...</td>\n",
              "      <td>Bihar</td>\n",
              "      <td>PENDING</td>\n",
              "      <td>1004</td>\n",
              "      <td>45</td>\n",
              "      <td>http://images.acmesports.sports/Field+%26+Stre...</td>\n",
              "      <td>Field &amp; Stream Sportsman 16 Gun Fire Safe</td>\n",
              "      <td>399.980011</td>\n",
              "      <td>0</td>\n",
              "      <td>1/24/2016 13:07</td>\n",
              "      <td>Standard Class</td>\n",
              "    </tr>\n",
              "  </tbody>\n",
              "</table>\n",
              "<p>537 rows × 49 columns</p>\n",
              "</div>"
            ],
            "text/plain": [
              "            Type  Days_for_shipping_(real)  Days_for_shipment_(scheduled)  \\\n",
              "1       TRANSFER                         5                              4   \n",
              "21      TRANSFER                         5                              4   \n",
              "45      TRANSFER                         6                              4   \n",
              "46      TRANSFER                         5                              2   \n",
              "382     TRANSFER                         3                              4   \n",
              "...          ...                       ...                            ...   \n",
              "180142  TRANSFER                         4                              4   \n",
              "180164  TRANSFER                         2                              1   \n",
              "180248  TRANSFER                         5                              2   \n",
              "180331  TRANSFER                         3                              4   \n",
              "180405  TRANSFER                         2                              4   \n",
              "\n",
              "        Benefit_per_order  Sales_per_customer   Delivery_Status  \\\n",
              "1             -249.089996          311.359985     Late delivery   \n",
              "21              82.300003          304.809998     Late delivery   \n",
              "45              86.169998          275.309998     Late delivery   \n",
              "46             130.580002          272.029999     Late delivery   \n",
              "382            144.210007          327.750000  Advance shipping   \n",
              "...                   ...                 ...               ...   \n",
              "180142          68.040001          377.980011  Shipping on time   \n",
              "180164         123.190002          351.980011     Late delivery   \n",
              "180248         115.190002          383.980011     Late delivery   \n",
              "180331        -103.970001          327.980011  Advance shipping   \n",
              "180405          81.000000          299.989990  Advance shipping   \n",
              "\n",
              "        Late_delivery_risk  Category_Id   Category_Name   Customer_City  ...  \\\n",
              "1                        1           73  Sporting Goods          Caguas  ...   \n",
              "21                       1           73  Sporting Goods          Caguas  ...   \n",
              "45                       1           73  Sporting Goods          Caguas  ...   \n",
              "46                       1           73  Sporting Goods       Rochester  ...   \n",
              "382                      0           73  Sporting Goods          Caguas  ...   \n",
              "...                    ...          ...             ...             ...  ...   \n",
              "180142                   0           45         Fishing          Caguas  ...   \n",
              "180164                   1           45         Fishing          Caguas  ...   \n",
              "180248                   1           45         Fishing       Las Vegas  ...   \n",
              "180331                   0           45         Fishing  East Brunswick  ...   \n",
              "180405                   0           45         Fishing         Phoenix  ...   \n",
              "\n",
              "           Order_State Order_Status Product_Card_Id  Product_Categor_Id  \\\n",
              "1             Rajastán      PENDING            1360                  73   \n",
              "21      Madhya Pradesh      PENDING            1360                  73   \n",
              "45           Karnataka      PENDING            1360                  73   \n",
              "46           Karnataka      PENDING            1360                  73   \n",
              "382        Maharashtra      PENDING            1360                  73   \n",
              "...                ...          ...             ...                 ...   \n",
              "180142          Odisha      PENDING            1004                  45   \n",
              "180164   Uttar Pradesh      PENDING            1004                  45   \n",
              "180248  Madhya Pradesh      PENDING            1004                  45   \n",
              "180331        Rajastán      PENDING            1004                  45   \n",
              "180405           Bihar      PENDING            1004                  45   \n",
              "\n",
              "                                            Product_Image  \\\n",
              "1            http://images.acmesports.sports/Smart+watch    \n",
              "21           http://images.acmesports.sports/Smart+watch    \n",
              "45           http://images.acmesports.sports/Smart+watch    \n",
              "46           http://images.acmesports.sports/Smart+watch    \n",
              "382          http://images.acmesports.sports/Smart+watch    \n",
              "...                                                   ...   \n",
              "180142  http://images.acmesports.sports/Field+%26+Stre...   \n",
              "180164  http://images.acmesports.sports/Field+%26+Stre...   \n",
              "180248  http://images.acmesports.sports/Field+%26+Stre...   \n",
              "180331  http://images.acmesports.sports/Field+%26+Stre...   \n",
              "180405  http://images.acmesports.sports/Field+%26+Stre...   \n",
              "\n",
              "                                     Product_Name Product_Price  \\\n",
              "1                                    Smart watch     327.750000   \n",
              "21                                   Smart watch     327.750000   \n",
              "45                                   Smart watch     327.750000   \n",
              "46                                   Smart watch     327.750000   \n",
              "382                                  Smart watch     327.750000   \n",
              "...                                           ...           ...   \n",
              "180142  Field & Stream Sportsman 16 Gun Fire Safe    399.980011   \n",
              "180164  Field & Stream Sportsman 16 Gun Fire Safe    399.980011   \n",
              "180248  Field & Stream Sportsman 16 Gun Fire Safe    399.980011   \n",
              "180331  Field & Stream Sportsman 16 Gun Fire Safe    399.980011   \n",
              "180405  Field & Stream Sportsman 16 Gun Fire Safe    399.980011   \n",
              "\n",
              "       Product_Status  shipping_date_(DateOrders)   Shipping_Mode  \n",
              "1                   0             1/18/2018 12:27  Standard Class  \n",
              "21                  0              1/18/2018 5:27  Standard Class  \n",
              "45                  0             1/18/2018 21:02  Standard Class  \n",
              "46                  0             1/17/2018 20:41    Second Class  \n",
              "382                 0             1/15/2018 12:59  Standard Class  \n",
              "...               ...                         ...             ...  \n",
              "180142              0            02-10-2016 18:10  Standard Class  \n",
              "180164              0            02-07-2016 10:18     First Class  \n",
              "180248              0            02-04-2016 18:22    Second Class  \n",
              "180331              0              1/29/2016 1:33  Standard Class  \n",
              "180405              0             1/24/2016 13:07  Standard Class  \n",
              "\n",
              "[537 rows x 49 columns]"
            ]
          },
          "execution_count": 12,
          "metadata": {},
          "output_type": "execute_result"
        }
      ],
      "source": [
        "pending_cities_df = df[(df['Order_Country'] == 'India') & (df['Order_Status'] == 'PENDING')]\n",
        "pending_cities_df"
      ]
    },
    {
      "cell_type": "code",
      "execution_count": null,
      "id": "0043f826",
      "metadata": {
        "id": "0043f826",
        "outputId": "7e32c8aa-e0e2-4d31-d366-e8b5b410bebf"
      },
      "outputs": [
        {
          "data": {
            "text/plain": [
              "Kanpur        25\n",
              "Pune          24\n",
              "Bangalore     24\n",
              "Lucknow       21\n",
              "Mumbai        18\n",
              "              ..\n",
              "Bilaspur       1\n",
              "Pimpri         1\n",
              "Aurangabad     1\n",
              "Hisar          1\n",
              "Bikaner        1\n",
              "Name: Order_City, Length: 91, dtype: int64"
            ]
          },
          "execution_count": 13,
          "metadata": {},
          "output_type": "execute_result"
        }
      ],
      "source": [
        "pending_cities_df['Order_City'].value_counts()"
      ]
    },
    {
      "cell_type": "code",
      "execution_count": null,
      "id": "79d2a409",
      "metadata": {
        "id": "79d2a409"
      },
      "outputs": [],
      "source": [
        "### Heatmap for correlation matrix"
      ]
    },
    {
      "cell_type": "code",
      "execution_count": null,
      "id": "bc8e3c10",
      "metadata": {
        "id": "bc8e3c10",
        "outputId": "16709e77-d3ae-4107-d947-6a47c40cf46f"
      },
      "outputs": [
        {
          "data": {
            "text/plain": [
              "array(['DEBIT', 'TRANSFER', 'CASH', 'PAYMENT'], dtype=object)"
            ]
          },
          "execution_count": 16,
          "metadata": {},
          "output_type": "execute_result"
        }
      ],
      "source": [
        "df['Type'].unique()"
      ]
    },
    {
      "cell_type": "code",
      "execution_count": null,
      "id": "0bacf5ad",
      "metadata": {
        "id": "0bacf5ad",
        "outputId": "1013a269-a33c-4445-9d83-888e1deebd35"
      },
      "outputs": [
        {
          "data": {
            "image/png": "[encoded data removed]",
            "text/plain": [
              "<Figure size 1440x576 with 1 Axes>"
            ]
          },
          "metadata": {
            "needs_background": "light"
          },
          "output_type": "display_data"
        }
      ],
      "source": [
        "xyz = df.groupby('Type')\n",
        "xyz1 = df[(df['Type'] == 'TRANSFER')]\n",
        "xyz2= df[(df['Type'] == 'CASH')]\n",
        "xyz3= df[(df['Type'] == 'PAYMENT')]\n",
        "xyz4= df[(df['Type'] == 'DEBIT')]\n",
        "count1=xyz1['Order_Region'].value_counts()\n",
        "count2=xyz2['Order_Region'].value_counts()\n",
        "count3=xyz3['Order_Region'].value_counts()\n",
        "count4=xyz4['Order_Region'].value_counts()\n",
        "names=df['Order_Region'].value_counts().keys()\n",
        "n_groups=23\n",
        "fig,ax = plt.subplots(figsize=(20,8))\n",
        "index=np.arange(n_groups)\n",
        "bar_width=0.2\n",
        "opacity=0.6\n",
        "type1=plt.bar(index,count1,bar_width,alpha=opacity,color='b',label='Transfer')\n",
        "type2=plt.bar(index+bar_width,count2,bar_width,alpha=opacity,color='r',label='Cash')\n",
        "type3=plt.bar(index+bar_width+bar_width,count3,bar_width,alpha=opacity,color='g',label='Payment')\n",
        "type4=plt.bar(index+bar_width+bar_width+bar_width,count4,bar_width,alpha=opacity,color='y',label='Debit')\n",
        "plt.xlabel('Order Regions')\n",
        "plt.ylabel('Number of payments')\n",
        "plt.title('Different Type of payments used in all regions')\n",
        "plt.legend()\n",
        "plt.xticks(index+bar_width,names,rotation=90)\n",
        "plt.tight_layout()\n",
        "plt.show()"
      ]
    },
    {
      "cell_type": "markdown",
      "id": "22a735c0",
      "metadata": {
        "id": "22a735c0"
      },
      "source": [
        "#### Perform analysis on customer behavior:"
      ]
    },
    {
      "cell_type": "code",
      "execution_count": null,
      "id": "d8df3aef",
      "metadata": {
        "id": "d8df3aef",
        "outputId": "eb3e8c34-c95d-4232-dd49-0cc03604f8a2"
      },
      "outputs": [
        {
          "data": {
            "image/png": "[encoded data removed]",
            "text/plain": [
              "<Figure size 720x432 with 1 Axes>"
            ]
          },
          "metadata": {
            "needs_background": "light"
          },
          "output_type": "display_data"
        }
      ],
      "source": [
        "# Sales per customer\n",
        "sales_per_customer = df.groupby('Customer_Id')['Sales'].sum()\n",
        "\n",
        "# Plotting sales per customer\n",
        "plt.figure(figsize=(10, 6))\n",
        "sns.histplot(sales_per_customer, bins=30)\n",
        "plt.title('Sales per Customer')\n",
        "plt.xlabel('Sales')\n",
        "plt.ylabel('Count')\n",
        "plt.show()"
      ]
    },
    {
      "cell_type": "markdown",
      "id": "aa5d9218",
      "metadata": {
        "id": "aa5d9218"
      },
      "source": [
        "#### Analyze delivery performance:"
      ]
    },
    {
      "cell_type": "code",
      "execution_count": null,
      "id": "73d2233a",
      "metadata": {
        "id": "73d2233a",
        "outputId": "6eb8b095-d305-44bc-cce7-d209a2cf37cf"
      },
      "outputs": [
        {
          "data": {
            "image/png": "[encoded data removed]",
            "text/plain": [
              "<Figure size 432x432 with 1 Axes>"
            ]
          },
          "metadata": {},
          "output_type": "display_data"
        }
      ],
      "source": [
        "# Calculate the percentage of late deliveries\n",
        "percentage_late_deliveries = df[df['Delivery_Status'] == 'Late delivery']['Delivery_Status'].count() / df['Delivery_Status'].count() * 100\n",
        "\n",
        "# Plotting delivery performance\n",
        "plt.figure(figsize=(6, 6))\n",
        "labels = ['On Time', 'Late']\n",
        "sizes = [100 - percentage_late_deliveries, percentage_late_deliveries]\n",
        "plt.pie(sizes, labels=labels, autopct='%1.1f%%', startangle=90)\n",
        "plt.title('Delivery Performance')\n",
        "plt.axis('equal')\n",
        "plt.show()\n"
      ]
    },
    {
      "cell_type": "markdown",
      "id": "a854a6da",
      "metadata": {
        "id": "a854a6da"
      },
      "source": [
        "#### Analyze sales patterns:"
      ]
    },
    {
      "cell_type": "code",
      "execution_count": null,
      "id": "c9ca96bd",
      "metadata": {
        "id": "c9ca96bd",
        "outputId": "374df092-b318-42e5-918b-095b2a898ad5"
      },
      "outputs": [
        {
          "data": {
            "image/png": "[encoded data removed]",
            "text/plain": [
              "<Figure size 720x432 with 1 Axes>"
            ]
          },
          "metadata": {
            "needs_background": "light"
          },
          "output_type": "display_data"
        }
      ],
      "source": [
        "# Sales by order region\n",
        "sales_by_region = df.groupby('Order_Region')['Sales'].sum()\n",
        "\n",
        "# Plotting sales by order region\n",
        "plt.figure(figsize=(10, 6))\n",
        "sns.barplot(x=sales_by_region.index, y=sales_by_region.values)\n",
        "plt.title('Sales by Order Region')\n",
        "plt.xlabel('Order Region')\n",
        "plt.ylabel('Sales')\n",
        "plt.xticks(rotation=45)\n",
        "plt.show()"
      ]
    },
    {
      "cell_type": "code",
      "execution_count": null,
      "id": "74c929ac",
      "metadata": {
        "id": "74c929ac"
      },
      "outputs": [],
      "source": [
        "#### Visualization"
      ]
    },
    {
      "cell_type": "code",
      "execution_count": null,
      "id": "a199c5c4",
      "metadata": {
        "id": "a199c5c4",
        "outputId": "419d77ef-726e-46d3-ae96-bbaa6ecfe08f"
      },
      "outputs": [
        {
          "data": {
            "image/png": "[encoded data removed]",
            "text/plain": [
              "<Figure size 432x288 with 1 Axes>"
            ]
          },
          "metadata": {
            "needs_background": "light"
          },
          "output_type": "display_data"
        },
        {
          "data": {
            "image/png": "[encoded data removed]",
            "text/plain": [
              "<Figure size 432x288 with 1 Axes>"
            ]
          },
          "metadata": {
            "needs_background": "light"
          },
          "output_type": "display_data"
        },
        {
          "data": {
            "image/png": "[encoded data removed]",
            "text/plain": [
              "<Figure size 432x288 with 2 Axes>"
            ]
          },
          "metadata": {
            "needs_background": "light"
          },
          "output_type": "display_data"
        },
        {
          "data": {
            "image/png": "[encoded data removed]",
            "text/plain": [
              "<Figure size 432x288 with 1 Axes>"
            ]
          },
          "metadata": {},
          "output_type": "display_data"
        },
        {
          "data": {
            "image/png": "[encoded data removed]",
            "text/plain": [
              "<Figure size 432x288 with 1 Axes>"
            ]
          },
          "metadata": {},
          "output_type": "display_data"
        },
        {
          "data": {
            "image/png": "[encoded data removed]",
            "text/plain": [
              "<Figure size 576x432 with 1 Axes>"
            ]
          },
          "metadata": {
            "needs_background": "light"
          },
          "output_type": "display_data"
        }
      ],
      "source": [
        "import matplotlib.pyplot as plt\n",
        "import seaborn as sns\n",
        "\n",
        "# Histogram\n",
        "plt.hist(df['Days_for_shipping_(real)'], bins=10)\n",
        "plt.xlabel('Days for Shipping (Real)')\n",
        "plt.ylabel('Frequency')\n",
        "plt.title('Histogram')\n",
        "plt.show()\n",
        "\n",
        "# Bar chart\n",
        "plt.bar(df['Delivery_Status'].unique(), df['Delivery_Status'].value_counts())\n",
        "plt.xlabel('Delivery Status')\n",
        "plt.ylabel('Count')\n",
        "plt.title('Bar Chart')\n",
        "plt.show()\n",
        "\n",
        "# Heatmap\n",
        "corr_matrix = df[['Days_for_shipping_(real)', 'Benefit_per_order', 'Sales_per_customer']].corr()\n",
        "sns.heatmap(corr_matrix, annot=True, cmap='coolwarm')\n",
        "plt.title('Correlation Heatmap')\n",
        "plt.show()\n",
        "\n",
        "#How many late deliverys\n",
        "# Count the number of orders in each delivery status category\n",
        "delivery_status_counts = df['Delivery_Status'].value_counts()\n",
        "\n",
        "# Create the pie chart\n",
        "plt.pie(delivery_status_counts, labels=delivery_status_counts.index, autopct='%1.1f%%')\n",
        "plt.title('Delivery Status Distribution')\n",
        "plt.show()\n",
        "\n",
        "# Payment Type Distribution\n",
        "payment_counts = df['Type'].value_counts()\n",
        "\n",
        "# Create the pie chart\n",
        "plt.pie(payment_counts, labels=payment_counts.index, autopct='%1.1f%%')\n",
        "plt.title('Payment Type Distribution')\n",
        "plt.show()\n",
        "\n",
        "# Plot scatter plot for numeric columns\n",
        "plt.figure(figsize=(8, 6))\n",
        "sns.scatterplot(data=df, x='Sales_per_customer', y='Benefit_per_order')\n",
        "plt.title('Scatter Plot: Sales per Customer vs Benefit per Order')\n",
        "plt.xlabel('Sales per Customer')\n",
        "plt.ylabel('Benefit per Order')\n",
        "plt.show()\n"
      ]
    },
    {
      "cell_type": "code",
      "execution_count": null,
      "id": "bf42fb6c",
      "metadata": {
        "id": "bf42fb6c",
        "outputId": "8b92e333-b403-4a14-eecd-0863c3df262c"
      },
      "outputs": [
        {
          "data": {
            "text/plain": [
              "[Text(0, 0.5, 'Number of products sold '),\n",
              " Text(0.5, 1.0, ' Department-wise sales distribution')]"
            ]
          },
          "execution_count": 25,
          "metadata": {},
          "output_type": "execute_result"
        },
        {
          "data": {
            "image/png": "[encoded data removed]",
            "text/plain": [
              "<Figure size 432x288 with 1 Axes>"
            ]
          },
          "metadata": {
            "needs_background": "light"
          },
          "output_type": "display_data"
        }
      ],
      "source": [
        "p = sns.countplot(x = df[\"Department_Name\"]) \n",
        "p.set_xticklabels(p.get_xticklabels(),rotation = 90)\n",
        "p.set(ylabel = \"Number of products sold \",title = \" Department-wise sales distribution\")"
      ]
    },
    {
      "cell_type": "code",
      "execution_count": null,
      "id": "1f9d7586",
      "metadata": {
        "id": "1f9d7586",
        "outputId": "c363e2f9-b7ee-4547-ffbb-b4e55d377010"
      },
      "outputs": [
        {
          "data": {
            "text/plain": [
              "[Text(0, 0.5, 'Number of products sold'),\n",
              " Text(0.5, 1.0, 'Market-wise sales distribution'),\n",
              " Text(0.5, 0, 'Market(where each order is delivered)')]"
            ]
          },
          "execution_count": 26,
          "metadata": {},
          "output_type": "execute_result"
        },
        {
          "data": {
            "image/png": "[encoded data removed]",
            "text/plain": [
              "<Figure size 432x288 with 1 Axes>"
            ]
          },
          "metadata": {
            "needs_background": "light"
          },
          "output_type": "display_data"
        }
      ],
      "source": [
        "p1 = sns.countplot(x = df[\"Market\"])  \n",
        "p1.set(ylabel = \"Number of products sold\",title = \"Market-wise sales distribution\",xlabel = \"Market(where each order is delivered)\")"
      ]
    },
    {
      "cell_type": "code",
      "execution_count": null,
      "id": "08daa3f5",
      "metadata": {
        "id": "08daa3f5",
        "outputId": "e20643a9-5d03-4069-b121-2144ed9ba862"
      },
      "outputs": [
        {
          "data": {
            "text/plain": [
              "[Text(0.5, 1.0, 'Distribution of discounts by sales '),\n",
              " Text(0.5, 0, 'discount offered'),\n",
              " Text(0, 0.5, 'Number Of Products')]"
            ]
          },
          "execution_count": 27,
          "metadata": {},
          "output_type": "execute_result"
        },
        {
          "data": {
            "image/png": "[encoded data removed]",
            "text/plain": [
              "<Figure size 432x288 with 1 Axes>"
            ]
          },
          "metadata": {
            "needs_background": "light"
          },
          "output_type": "display_data"
        }
      ],
      "source": [
        "p2 = sns.histplot(x = df[\"Order_Item_Discount\"],bins=25) \n",
        "p2.set(title = \"Distribution of discounts by sales \",xlabel = \"discount offered\",ylabel = \"Number Of Products\")"
      ]
    },
    {
      "cell_type": "code",
      "execution_count": null,
      "id": "ee02ecbb",
      "metadata": {
        "id": "ee02ecbb",
        "outputId": "d9fc9c86-ed27-4feb-c759-f245dc10bfea",
        "colab": {
          "base_uri": "https://localhost:8080/",
          "height": 394
        }
      },
      "outputs": [
        {
          "output_type": "error",
          "ename": "NameError",
          "evalue": "ignored",
          "traceback": [
            "\u001b[0;31m---------------------------------------------------------------------------\u001b[0m",
            "\u001b[0;31mNameError\u001b[0m                                 Traceback (most recent call last)",
            "\u001b[0;32m<ipython-input-1-24c21c01d3da>\u001b[0m in \u001b[0;36m<cell line: 2>\u001b[0;34m()\u001b[0m\n\u001b[1;32m      1\u001b[0m \u001b[0;31m# pie chart\u001b[0m\u001b[0;34m\u001b[0m\u001b[0;34m\u001b[0m\u001b[0m\n\u001b[0;32m----> 2\u001b[0;31m df.groupby('Order_Status').size().plot(kind='pie', explode=[0, 0, 0,0,0,0,0,0,0.2], autopct='%1.1f%%', #Normalize=False,\n\u001b[0m\u001b[1;32m      3\u001b[0m                                                colors = ['#5a5a5a','#676767','#737373','#8d8d8d','#9a9a9a','#a6a6a6','#ececec','#f6f6f6','red'])\n\u001b[1;32m      4\u001b[0m \u001b[0mplt\u001b[0m\u001b[0;34m.\u001b[0m\u001b[0mylabel\u001b[0m\u001b[0;34m(\u001b[0m\u001b[0;34m\"\"\u001b[0m\u001b[0;34m)\u001b[0m\u001b[0;34m\u001b[0m\u001b[0;34m\u001b[0m\u001b[0m\n",
            "\u001b[0;31mNameError\u001b[0m: name 'df' is not defined"
          ]
        }
      ],
      "source": [
        "# pie chart\n",
        "df.groupby('Order_Status').size().plot(kind='pie', explode=[0, 0, 0,0,0,0,0,0,0.2], autopct='%1.1f%%', #Normalize=False,\n",
        "                                               colors = ['#5a5a5a','#676767','#737373','#8d8d8d','#9a9a9a','#a6a6a6','#ececec','#f6f6f6','red'])\n",
        "plt.ylabel(\"\")"
      ]
    },
    {
      "cell_type": "code",
      "execution_count": null,
      "id": "c972b3e3",
      "metadata": {
        "id": "c972b3e3"
      },
      "outputs": [],
      "source": [
        "# Create new dataset for modeling purpose\n",
        "df_model = pd.DataFrame()"
      ]
    },
    {
      "cell_type": "code",
      "execution_count": null,
      "id": "5d052e35",
      "metadata": {
        "id": "5d052e35",
        "outputId": "948c6a9d-4e0e-47df-91fd-109d6559192f"
      },
      "outputs": [
        {
          "data": {
            "text/plain": [
              "<AxesSubplot:ylabel='None'>"
            ]
          },
          "execution_count": 30,
          "metadata": {},
          "output_type": "execute_result"
        },
        {
          "data": {
            "image/png": "[encoded data removed]",
            "text/plain": [
              "<Figure size 432x288 with 1 Axes>"
            ]
          },
          "metadata": {},
          "output_type": "display_data"
        }
      ],
      "source": [
        "#Need to think about performance measure. Since its a imbalance problem, accuracy or even ROC curve might not reflect actual performance\n",
        "df_model['y_fraud'] = np.where(df['Order_Status']=='SUSPECTED_FRAUD', 1, 0)\n",
        "df_model.groupby('y_fraud').size().plot(kind='pie', explode=[0, 0.2], autopct='%1.1f%%', \n",
        "                                               colors = ['#5a5a5a','red'])"
      ]
    },
    {
      "cell_type": "code",
      "execution_count": null,
      "id": "b979a81a",
      "metadata": {
        "id": "b979a81a",
        "outputId": "5553fc0d-055f-476d-c959-83836da34fd4"
      },
      "outputs": [
        {
          "name": "stdout",
          "output_type": "stream",
          "text": [
            "<class 'pandas.core.frame.DataFrame'>\n",
            "RangeIndex: 180519 entries, 0 to 180518\n",
            "Data columns (total 6 columns):\n",
            " #   Column              Non-Null Count   Dtype  \n",
            "---  ------              --------------   -----  \n",
            " 0   y_fraud             180519 non-null  int32  \n",
            " 1   Type                180519 non-null  object \n",
            " 2   Sales_per_customer  180519 non-null  float64\n",
            " 3   Benefit_per_order   180519 non-null  float64\n",
            " 4   Sales               180519 non-null  float64\n",
            " 5   Order_Item_Total    180519 non-null  float64\n",
            "dtypes: float64(4), int32(1), object(1)\n",
            "memory usage: 7.6+ MB\n"
          ]
        }
      ],
      "source": [
        "##Feature variables\n",
        "# Lets consider a few variables ()\n",
        "df_model[['Type', 'Sales_per_customer' ]] = df[['Type', 'Sales_per_customer']]\n",
        "# , 'Customer State' drop for now\n",
        "# , 'Order Country' may be ignored\n",
        "df_model[['Benefit_per_order', 'Sales_per_customer', 'Sales', 'Order_Item_Total']] = df[['Benefit_per_order', 'Sales_per_customer', 'Sales', 'Order_Item_Total']]\n",
        "df_model.info()"
      ]
    },
    {
      "cell_type": "code",
      "execution_count": null,
      "id": "55b14121",
      "metadata": {
        "id": "55b14121"
      },
      "outputs": [],
      "source": [
        "#Encoding\n",
        "# Type, Customer State,  Order Country\n",
        "# unique values in each columns\n",
        "for x in df_model.columns:\n",
        "    #prinfting unique values\n",
        "    print(x ,':', len(df_model[x].unique()))"
      ]
    },
    {
      "cell_type": "code",
      "execution_count": null,
      "id": "38a0af4d",
      "metadata": {
        "id": "38a0af4d",
        "outputId": "3ee6ffd0-f961-482e-f085-81f40c59336f"
      },
      "outputs": [
        {
          "data": {
            "text/plain": [
              "DEBIT       69295\n",
              "TRANSFER    49883\n",
              "PAYMENT     41725\n",
              "CASH        19616\n",
              "Name: Type, dtype: int64"
            ]
          },
          "metadata": {},
          "output_type": "display_data"
        }
      ],
      "source": [
        "display(df_model.Type .value_counts().sort_values(ascending=False).head(20))"
      ]
    },
    {
      "cell_type": "code",
      "execution_count": null,
      "id": "522d92f6",
      "metadata": {
        "id": "522d92f6"
      },
      "outputs": [],
      "source": [
        "# manually replace values based on frequency of DEBIT/Transfer\n",
        "df_model[\"Type\"].replace({\"DEBIT\": 4, \"TRANSFER\": 3, \"PAYMENT\": 2, \"CASH\": 1}, inplace=True)"
      ]
    },
    {
      "cell_type": "code",
      "execution_count": null,
      "id": "90057105",
      "metadata": {
        "id": "90057105",
        "outputId": "6a1e1f3d-f91e-46e9-b3c9-a5dea8c61149"
      },
      "outputs": [
        {
          "data": {
            "text/html": [
              "<div>\n",
              "<style scoped>\n",
              "    .dataframe tbody tr th:only-of-type {\n",
              "        vertical-align: middle;\n",
              "    }\n",
              "\n",
              "    .dataframe tbody tr th {\n",
              "        vertical-align: top;\n",
              "    }\n",
              "\n",
              "    .dataframe thead th {\n",
              "        text-align: right;\n",
              "    }\n",
              "</style>\n",
              "<table border=\"1\" class=\"dataframe\">\n",
              "  <thead>\n",
              "    <tr style=\"text-align: right;\">\n",
              "      <th></th>\n",
              "      <th>y_fraud</th>\n",
              "      <th>Type</th>\n",
              "      <th>Sales_per_customer</th>\n",
              "      <th>Benefit_per_order</th>\n",
              "      <th>Sales</th>\n",
              "      <th>Order_Item_Total</th>\n",
              "    </tr>\n",
              "  </thead>\n",
              "  <tbody>\n",
              "    <tr>\n",
              "      <th>0</th>\n",
              "      <td>0</td>\n",
              "      <td>4</td>\n",
              "      <td>314.640015</td>\n",
              "      <td>91.250000</td>\n",
              "      <td>327.750000</td>\n",
              "      <td>314.640015</td>\n",
              "    </tr>\n",
              "    <tr>\n",
              "      <th>1</th>\n",
              "      <td>0</td>\n",
              "      <td>3</td>\n",
              "      <td>311.359985</td>\n",
              "      <td>-249.089996</td>\n",
              "      <td>327.750000</td>\n",
              "      <td>311.359985</td>\n",
              "    </tr>\n",
              "    <tr>\n",
              "      <th>2</th>\n",
              "      <td>0</td>\n",
              "      <td>1</td>\n",
              "      <td>309.720001</td>\n",
              "      <td>-247.779999</td>\n",
              "      <td>327.750000</td>\n",
              "      <td>309.720001</td>\n",
              "    </tr>\n",
              "    <tr>\n",
              "      <th>3</th>\n",
              "      <td>0</td>\n",
              "      <td>4</td>\n",
              "      <td>304.809998</td>\n",
              "      <td>22.860001</td>\n",
              "      <td>327.750000</td>\n",
              "      <td>304.809998</td>\n",
              "    </tr>\n",
              "    <tr>\n",
              "      <th>4</th>\n",
              "      <td>0</td>\n",
              "      <td>2</td>\n",
              "      <td>298.250000</td>\n",
              "      <td>134.210007</td>\n",
              "      <td>327.750000</td>\n",
              "      <td>298.250000</td>\n",
              "    </tr>\n",
              "    <tr>\n",
              "      <th>...</th>\n",
              "      <td>...</td>\n",
              "      <td>...</td>\n",
              "      <td>...</td>\n",
              "      <td>...</td>\n",
              "      <td>...</td>\n",
              "      <td>...</td>\n",
              "    </tr>\n",
              "    <tr>\n",
              "      <th>180514</th>\n",
              "      <td>0</td>\n",
              "      <td>1</td>\n",
              "      <td>399.980011</td>\n",
              "      <td>40.000000</td>\n",
              "      <td>399.980011</td>\n",
              "      <td>399.980011</td>\n",
              "    </tr>\n",
              "    <tr>\n",
              "      <th>180515</th>\n",
              "      <td>0</td>\n",
              "      <td>4</td>\n",
              "      <td>395.980011</td>\n",
              "      <td>-613.770019</td>\n",
              "      <td>399.980011</td>\n",
              "      <td>395.980011</td>\n",
              "    </tr>\n",
              "    <tr>\n",
              "      <th>180516</th>\n",
              "      <td>0</td>\n",
              "      <td>3</td>\n",
              "      <td>391.980011</td>\n",
              "      <td>141.110001</td>\n",
              "      <td>399.980011</td>\n",
              "      <td>391.980011</td>\n",
              "    </tr>\n",
              "    <tr>\n",
              "      <th>180517</th>\n",
              "      <td>0</td>\n",
              "      <td>2</td>\n",
              "      <td>387.980011</td>\n",
              "      <td>186.229996</td>\n",
              "      <td>399.980011</td>\n",
              "      <td>387.980011</td>\n",
              "    </tr>\n",
              "    <tr>\n",
              "      <th>180518</th>\n",
              "      <td>0</td>\n",
              "      <td>2</td>\n",
              "      <td>383.980011</td>\n",
              "      <td>168.949997</td>\n",
              "      <td>399.980011</td>\n",
              "      <td>383.980011</td>\n",
              "    </tr>\n",
              "  </tbody>\n",
              "</table>\n",
              "<p>180519 rows × 6 columns</p>\n",
              "</div>"
            ],
            "text/plain": [
              "        y_fraud  Type  Sales_per_customer  Benefit_per_order       Sales  \\\n",
              "0             0     4          314.640015          91.250000  327.750000   \n",
              "1             0     3          311.359985        -249.089996  327.750000   \n",
              "2             0     1          309.720001        -247.779999  327.750000   \n",
              "3             0     4          304.809998          22.860001  327.750000   \n",
              "4             0     2          298.250000         134.210007  327.750000   \n",
              "...         ...   ...                 ...                ...         ...   \n",
              "180514        0     1          399.980011          40.000000  399.980011   \n",
              "180515        0     4          395.980011        -613.770019  399.980011   \n",
              "180516        0     3          391.980011         141.110001  399.980011   \n",
              "180517        0     2          387.980011         186.229996  399.980011   \n",
              "180518        0     2          383.980011         168.949997  399.980011   \n",
              "\n",
              "        Order_Item_Total  \n",
              "0             314.640015  \n",
              "1             311.359985  \n",
              "2             309.720001  \n",
              "3             304.809998  \n",
              "4             298.250000  \n",
              "...                  ...  \n",
              "180514        399.980011  \n",
              "180515        395.980011  \n",
              "180516        391.980011  \n",
              "180517        387.980011  \n",
              "180518        383.980011  \n",
              "\n",
              "[180519 rows x 6 columns]"
            ]
          },
          "execution_count": 35,
          "metadata": {},
          "output_type": "execute_result"
        }
      ],
      "source": [
        "#Data ready for modeling\n",
        "df_model"
      ]
    },
    {
      "cell_type": "code",
      "execution_count": null,
      "id": "17ad2a0e",
      "metadata": {
        "id": "17ad2a0e"
      },
      "outputs": [],
      "source": []
    },
    {
      "cell_type": "code",
      "execution_count": null,
      "id": "6dd964b0",
      "metadata": {
        "id": "6dd964b0"
      },
      "outputs": [],
      "source": []
    },
    {
      "cell_type": "markdown",
      "id": "043ecc5a",
      "metadata": {
        "id": "043ecc5a"
      },
      "source": [
        "#### Delivery"
      ]
    },
    {
      "cell_type": "code",
      "execution_count": null,
      "id": "56dd6df7",
      "metadata": {
        "id": "56dd6df7",
        "outputId": "00924b24-cb0f-4bf3-dd31-0f0b63783349"
      },
      "outputs": [
        {
          "data": {
            "text/plain": [
              "Late delivery        98977\n",
              "Advance shipping     41592\n",
              "Shipping on time     32196\n",
              "Shipping canceled     7754\n",
              "Name: Delivery_Status, dtype: int64"
            ]
          },
          "execution_count": 36,
          "metadata": {},
          "output_type": "execute_result"
        }
      ],
      "source": [
        "# Count the number of orders in each delivery status category\n",
        "delivery_status_counts = df['Delivery_Status'].value_counts()\n",
        "delivery_status_counts"
      ]
    },
    {
      "cell_type": "markdown",
      "id": "c2d58a83",
      "metadata": {
        "id": "c2d58a83"
      },
      "source": [
        "#### To calculate lead time, you'll need to subtract the 'order_date_(DateOrders)' from the 'shipping_date_(DateOrders)' and then add the number of days for shipping and shipment scheduled.\n",
        "Lead time : lead time refers to the amount of time that elapses between the initiation and the completion of a process"
      ]
    },
    {
      "cell_type": "code",
      "execution_count": null,
      "id": "040b9587",
      "metadata": {
        "id": "040b9587",
        "outputId": "12e0fc08-3ba8-4268-c3ee-fdc01452cec9"
      },
      "outputs": [
        {
          "name": "stdout",
          "output_type": "stream",
          "text": [
            "0         10\n",
            "1         14\n",
            "2         12\n",
            "3         10\n",
            "4          8\n",
            "          ..\n",
            "180514    12\n",
            "180515     8\n",
            "180516    14\n",
            "180517    10\n",
            "180518    12\n",
            "Name: lead_time, Length: 180519, dtype: int64\n"
          ]
        }
      ],
      "source": [
        "import pandas as pd\n",
        "\n",
        "# Convert date columns to datetime objects\n",
        "df['order_date_(DateOrders)'] = pd.to_datetime(df['order_date_(DateOrders)'])\n",
        "df['shipping_date_(DateOrders)'] = pd.to_datetime(df['shipping_date_(DateOrders)'])\n",
        "\n",
        "# Calculate lead time\n",
        "df['lead_time'] = (df['shipping_date_(DateOrders)'] - df['order_date_(DateOrders)']).dt.days + df['Days_for_shipping_(real)'] + df['Days_for_shipment_(scheduled)']\n",
        "\n",
        "# Output the results\n",
        "print(df['lead_time'])"
      ]
    },
    {
      "cell_type": "code",
      "execution_count": null,
      "id": "06dd3ced",
      "metadata": {
        "id": "06dd3ced",
        "outputId": "5f5f0fe1-eae4-4773-a5e0-f5dea70c07ca"
      },
      "outputs": [
        {
          "name": "stdout",
          "output_type": "stream",
          "text": [
            "Mean Lead Time: 9.90135664389898\n",
            "Median Lead Time: 10.0\n",
            "Standard Deviation of Lead Time: 4.18022149937094\n"
          ]
        },
        {
          "data": {
            "image/png": "[encoded data removed]",
            "text/plain": [
              "<Figure size 432x288 with 1 Axes>"
            ]
          },
          "metadata": {
            "needs_background": "light"
          },
          "output_type": "display_data"
        }
      ],
      "source": [
        "# Remove rows with missing lead time data\n",
        "df = df.dropna(subset=[\"lead_time\"])\n",
        "\n",
        "# Calculate statistics\n",
        "mean_lead_time = np.mean(df[\"lead_time\"])\n",
        "median_lead_time = np.median(df[\"lead_time\"])\n",
        "std_lead_time = np.std(df[\"lead_time\"])\n",
        "\n",
        "# Print statistics\n",
        "print(\"Mean Lead Time:\", mean_lead_time)\n",
        "print(\"Median Lead Time:\", median_lead_time)\n",
        "print(\"Standard Deviation of Lead Time:\", std_lead_time)\n",
        "\n",
        "# Create a histogram to visualize the distribution of lead time\n",
        "plt.hist(df[\"lead_time\"], bins=20)\n",
        "plt.xlabel(\"Lead Time (days)\")\n",
        "plt.ylabel(\"Frequency\")\n",
        "plt.title(\"Distribution of Lead Time\")\n",
        "plt.show()"
      ]
    },
    {
      "cell_type": "markdown",
      "id": "e2fa2253",
      "metadata": {
        "id": "e2fa2253"
      },
      "source": [
        "#### This output shows the descriptive statistics of the lead_time column in the data.\n",
        "1. Mean Lead Time: This value represents the average lead time of the orders in the dataset, which is calculated by adding up all the lead time values and dividing by the total number of orders. In this case, the mean lead time is 9.90 days.\n",
        "2. Median Lead Time: This value represents the middle value of the lead time data when the data is arranged in order from lowest to highest. In this case, the median lead time is 10 days.\n",
        "3. Standard Deviation of Lead Time: This value represents how much the lead time values deviate from the mean lead time, and provides a measure of the variability of the data. A smaller standard deviation indicates that the lead time values are more tightly clustered around the mean. In this case, the standard deviation of lead time is 4.18 days."
      ]
    },
    {
      "cell_type": "markdown",
      "id": "45b0db85",
      "metadata": {
        "id": "45b0db85"
      },
      "source": [
        "#### Efficiency"
      ]
    },
    {
      "cell_type": "code",
      "execution_count": null,
      "id": "e7c144e7",
      "metadata": {
        "id": "e7c144e7",
        "outputId": "61f59fe0-954e-4ab8-b415-c22ea11be7a8"
      },
      "outputs": [
        {
          "name": "stdout",
          "output_type": "stream",
          "text": [
            "Average days for shipping: 3.4976539865609713\n",
            "Average benefit per order: 21.974988638594276\n",
            "Sales per customer:\n",
            " Customer_Id\n",
            "1         499.950012\n",
            "2        1819.730034\n",
            "3        3537.680094\n",
            "4        1719.630030\n",
            "5        1274.750023\n",
            "            ...     \n",
            "20753     215.820007\n",
            "20754     215.820007\n",
            "20755     327.750000\n",
            "20756      11.540000\n",
            "20757      39.750000\n",
            "Name: Sales, Length: 20652, dtype: float64\n",
            "Number of unique products sold: 118\n"
          ]
        }
      ],
      "source": [
        "import pandas as pd\n",
        "\n",
        "# Calculate average days for shipping\n",
        "avg_days_for_shipping = df['Days_for_shipping_(real)'].mean()\n",
        "print('Average days for shipping:', avg_days_for_shipping)\n",
        "\n",
        "# Calculate average benefit per order\n",
        "avg_benefit_per_order = df['Benefit_per_order'].mean()\n",
        "print('Average benefit per order:', avg_benefit_per_order)\n",
        "\n",
        "# Calculate sales per customer\n",
        "sales_per_customer = df.groupby('Customer_Id')['Sales'].sum()\n",
        "print('Sales per customer:\\n', sales_per_customer)\n",
        "\n",
        "# Calculate the number of unique products sold\n",
        "unique_products_sold = df['Product_Card_Id'].nunique()\n",
        "print('Number of unique products sold:', unique_products_sold)\n"
      ]
    },
    {
      "cell_type": "markdown",
      "id": "f71404ca",
      "metadata": {
        "id": "f71404ca"
      },
      "source": [
        "#### Here is what each line of the output means:\n",
        "1. \"Average days for shipping: 3.4976539865609713\" - this means that on average, it takes 3.5 days for orders to be shipped.\n",
        "\n",
        "2. \"Average benefit per order: 21.974988638594276\" - this means that the average profit per order is $21.97\".\n",
        "\n",
        "3. \"Sales per customer: - this shows the total sales for each customer, grouped by their customer ID. It shows that some customers spent more than others, with customer ID 3 having the highest total sales of $3,537.68\".\n",
        "\n",
        "4. \"Number of unique products sold: 118\" - this means that there are 118 different products sold in this sample dataset.\n",
        "\n",
        "5. , the specific meanings of the KPIs and their values will depend on the nature of the supply chain and the goals of the analysis"
      ]
    },
    {
      "cell_type": "markdown",
      "id": "b0c8e773",
      "metadata": {
        "id": "b0c8e773"
      },
      "source": [
        "#### Quality"
      ]
    },
    {
      "cell_type": "code",
      "execution_count": null,
      "id": "23e57c96",
      "metadata": {
        "id": "23e57c96",
        "outputId": "01d8ab5b-566a-4cc6-c474-f380013d17c5"
      },
      "outputs": [
        {
          "name": "stdout",
          "output_type": "stream",
          "text": [
            "Missing values:\n",
            " Type                             0\n",
            "Days_for_shipping_(real)         0\n",
            "Days_for_shipment_(scheduled)    0\n",
            "Benefit_per_order                0\n",
            "Sales_per_customer               0\n",
            "Delivery_Status                  0\n",
            "Late_delivery_risk               0\n",
            "Category_Id                      0\n",
            "Category_Name                    0\n",
            "Customer_City                    0\n",
            "Customer_Country                 0\n",
            "Customer_Email                   0\n",
            "Customer_Fname                   0\n",
            "Customer_Id                      0\n",
            "Customer_Password                0\n",
            "Customer_Segment                 0\n",
            "Customer_State                   0\n",
            "Customer_Street                  0\n",
            "Department_Id                    0\n",
            "Department_Name                  0\n",
            "Latitude                         0\n",
            "Longitude                        0\n",
            "Market                           0\n",
            "Order_City                       0\n",
            "Order_Country                    0\n",
            "Order_Customer_Id                0\n",
            "order_date_(DateOrders)          0\n",
            "Order_Id                         0\n",
            "Order_Item_Cardprod_Id           0\n",
            "Order_Item_Discount              0\n",
            "Order_Item_Discount_Rate         0\n",
            "Order_Item_Id                    0\n",
            "Order_Item_Product_Price         0\n",
            "Order_Item_Profit_Ratio          0\n",
            "Order_Item_Quantity              0\n",
            "Sales                            0\n",
            "Order_Item_Total                 0\n",
            "Order_Profit_Per_Order           0\n",
            "Order_Region                     0\n",
            "Order_State                      0\n",
            "Order_Status                     0\n",
            "Product_Card_Id                  0\n",
            "Product_Categor_Id               0\n",
            "Product_Image                    0\n",
            "Product_Name                     0\n",
            "Product_Price                    0\n",
            "Product_Status                   0\n",
            "shipping_date_(DateOrders)       0\n",
            "Shipping_Mode                    0\n",
            "lead_time                        0\n",
            "dtype: int64\n",
            "Number of duplicated records: 0\n",
            "Data types of columns:\n",
            " Type                                     object\n",
            "Days_for_shipping_(real)                  int64\n",
            "Days_for_shipment_(scheduled)             int64\n",
            "Benefit_per_order                       float64\n",
            "Sales_per_customer                      float64\n",
            "Delivery_Status                          object\n",
            "Late_delivery_risk                        int64\n",
            "Category_Id                               int64\n",
            "Category_Name                            object\n",
            "Customer_City                            object\n",
            "Customer_Country                         object\n",
            "Customer_Email                           object\n",
            "Customer_Fname                           object\n",
            "Customer_Id                               int64\n",
            "Customer_Password                        object\n",
            "Customer_Segment                         object\n",
            "Customer_State                           object\n",
            "Customer_Street                          object\n",
            "Department_Id                             int64\n",
            "Department_Name                          object\n",
            "Latitude                                float64\n",
            "Longitude                               float64\n",
            "Market                                   object\n",
            "Order_City                               object\n",
            "Order_Country                            object\n",
            "Order_Customer_Id                         int64\n",
            "order_date_(DateOrders)          datetime64[ns]\n",
            "Order_Id                                  int64\n",
            "Order_Item_Cardprod_Id                    int64\n",
            "Order_Item_Discount                     float64\n",
            "Order_Item_Discount_Rate                float64\n",
            "Order_Item_Id                             int64\n",
            "Order_Item_Product_Price                float64\n",
            "Order_Item_Profit_Ratio                 float64\n",
            "Order_Item_Quantity                       int64\n",
            "Sales                                   float64\n",
            "Order_Item_Total                        float64\n",
            "Order_Profit_Per_Order                  float64\n",
            "Order_Region                             object\n",
            "Order_State                              object\n",
            "Order_Status                             object\n",
            "Product_Card_Id                           int64\n",
            "Product_Categor_Id                        int64\n",
            "Product_Image                            object\n",
            "Product_Name                             object\n",
            "Product_Price                           float64\n",
            "Product_Status                            int64\n",
            "shipping_date_(DateOrders)       datetime64[ns]\n",
            "Shipping_Mode                            object\n",
            "lead_time                                 int64\n",
            "dtype: object\n",
            "Number of outliers in numerical columns: [0, 0, 18942, 1943, 0, 488, 1943, 18942]\n"
          ]
        }
      ],
      "source": [
        "# Check for missing values\n",
        "missing_values = df.isnull().sum()\n",
        "print('Missing values:\\n', missing_values)\n",
        "\n",
        "# Check for duplicated records\n",
        "duplicates = df.duplicated().sum()\n",
        "print('Number of duplicated records:', duplicates)\n",
        "\n",
        "# Check data types of columns\n",
        "data_types = df.dtypes\n",
        "print('Data types of columns:\\n', data_types)\n",
        "\n",
        "# Check for outliers in numerical columns\n",
        "numerical_columns = ['Days_for_shipping_(real)', 'Days_for_shipment_(scheduled)', 'Benefit_per_order', 'Sales_per_customer', 'Order_Item_Quantity', 'Sales', 'Order_Item_Total', 'Order_Profit_Per_Order']\n",
        "outliers = []\n",
        "for col in numerical_columns:\n",
        "    Q1 = df[col].quantile(0.25)\n",
        "    Q3 = df[col].quantile(0.75)\n",
        "    IQR = Q3 - Q1\n",
        "    lower_bound = Q1 - 1.5 * IQR\n",
        "    upper_bound = Q3 + 1.5 * IQR\n",
        "    outliers.append(df[(df[col] < lower_bound) | (df[col] > upper_bound)].shape[0])\n",
        "print('Number of outliers in numerical columns:', outliers)\n"
      ]
    },
    {
      "cell_type": "markdown",
      "id": "80d984f7",
      "metadata": {
        "id": "80d984f7"
      },
      "source": [
        "#### In this case, there are 8 numerical columns in the dataset and the output is showing the number of outliers detected for each of these columns. The numbers in the output list represent the number of outliers detected in the following order:\n",
        "1. Days_for_shipping_(real)\n",
        "2. Days_for_shipment_(scheduled)\n",
        "3. Benefit_per_order\n",
        "4. Sales_per_customer\n",
        "5. Late_delivery_risk\n",
        "6. Category_Id\n",
        "7. Order_Item_Profit_Ratio\n",
        "8. Lead_time\n",
        "9. For example, the output shows that there are no outliers in the first two columns (Days_for_shipping_(real) and Days_for_shipment_(scheduled)), but there are 18942 outliers in the third column (Benefit_per_order).\n",
        "\n",
        " It is important to carefully evaluate and handle outliers in a dataset before performing any analysis or building models to ensure that they do not significantly bias the results."
      ]
    },
    {
      "cell_type": "markdown",
      "id": "df221c6f",
      "metadata": {
        "id": "df221c6f"
      },
      "source": [
        "#### Winsorization: It involves setting the extreme values equal to a predetermined percentile value of the dataset, typically the 1st or 99th percentile.¶"
      ]
    },
    {
      "cell_type": "code",
      "execution_count": null,
      "id": "1a63d4ff",
      "metadata": {
        "id": "1a63d4ff"
      },
      "outputs": [],
      "source": [
        "import numpy as np\n",
        "from scipy.stats.mstats import winsorize\n",
        "\n",
        "# determine the percentile limits for winsorization\n",
        "lower_limit = 0.01\n",
        "upper_limit = 0.99\n",
        "\n",
        "# apply winsorization to the Benefit_per_order column\n",
        "winsorized_values = winsorize(df['Benefit_per_order'], limits=(lower_limit, upper_limit))\n",
        "\n",
        "# replace the original column with the winsorized values\n",
        "df['Benefit_per_order'] = winsorized_values\n"
      ]
    },
    {
      "cell_type": "code",
      "execution_count": null,
      "id": "f6716e26",
      "metadata": {
        "id": "f6716e26"
      },
      "outputs": [],
      "source": [
        "# determine the percentile limits for winsorization\n",
        "lower_limit = 0.01\n",
        "upper_limit = 0.99\n",
        "\n",
        "# apply winsorization to the Benefit_per_order column\n",
        "winsorized_values_1 = winsorize(df['Sales_per_customer'], limits=(lower_limit, upper_limit))\n",
        "\n",
        "# replace the original column with the winsorized values\n",
        "df['Sales_per_customer'] = winsorized_values_1"
      ]
    },
    {
      "cell_type": "code",
      "execution_count": null,
      "id": "a7e0f81f",
      "metadata": {
        "id": "a7e0f81f"
      },
      "outputs": [],
      "source": [
        "# determine the percentile limits for winsorization\n",
        "lower_limit = 0.01\n",
        "upper_limit = 0.99\n",
        "\n",
        "# apply winsorization to the Benefit_per_order column\n",
        "winsorized_values_2 = winsorize(df['Order_Item_Quantity'], limits=(lower_limit, upper_limit))\n",
        "\n",
        "# replace the original column with the winsorized values\n",
        "df['Order_Item_Quantity'] = winsorized_values_2"
      ]
    },
    {
      "cell_type": "code",
      "execution_count": null,
      "id": "8cab274d",
      "metadata": {
        "id": "8cab274d"
      },
      "outputs": [],
      "source": [
        "# determine the percentile limits for winsorization\n",
        "lower_limit = 0.01\n",
        "upper_limit = 0.99\n",
        "\n",
        "# apply winsorization to the Benefit_per_order column\n",
        "winsorized_values_2 = winsorize(df['Sales'], limits=(lower_limit, upper_limit))\n",
        "\n",
        "# replace the original column with the winsorized values\n",
        "df['Sales'] = winsorized_values_2"
      ]
    },
    {
      "cell_type": "code",
      "execution_count": null,
      "id": "c62b5b3a",
      "metadata": {
        "id": "c62b5b3a"
      },
      "outputs": [],
      "source": [
        "# determine the percentile limits for winsorization\n",
        "lower_limit = 0.01\n",
        "upper_limit = 0.99\n",
        "\n",
        "# apply winsorization to the Benefit_per_order column\n",
        "winsorized_values_2 = winsorize(df['Order_Item_Total'], limits=(lower_limit, upper_limit))\n",
        "\n",
        "# replace the original column with the winsorized values\n",
        "df['Order_Item_Total'] = winsorized_values_2"
      ]
    },
    {
      "cell_type": "code",
      "execution_count": null,
      "id": "1a67bf2b",
      "metadata": {
        "id": "1a67bf2b"
      },
      "outputs": [],
      "source": [
        "# determine the percentile limits for winsorization\n",
        "lower_limit = 0.01\n",
        "upper_limit = 0.99\n",
        "\n",
        "# apply winsorization to the Benefit_per_order column\n",
        "winsorized_values_3 = winsorize(df['Order_Profit_Per_Order'], limits=(lower_limit, upper_limit))\n",
        "\n",
        "# replace the original column with the winsorized values\n",
        "df['Order_Profit_Per_Order'] = winsorized_values_3"
      ]
    },
    {
      "cell_type": "markdown",
      "id": "d1cfc8bc",
      "metadata": {
        "id": "d1cfc8bc"
      },
      "source": [
        "#### Transport & logistic"
      ]
    },
    {
      "cell_type": "code",
      "execution_count": null,
      "id": "d5927520",
      "metadata": {
        "id": "d5927520"
      },
      "outputs": [],
      "source": [
        "### To analyze the transportation and logistics aspect "
      ]
    },
    {
      "cell_type": "code",
      "execution_count": null,
      "id": "26bf3f31",
      "metadata": {
        "id": "26bf3f31",
        "outputId": "03435386-72f2-4a50-985d-13509d2127b6"
      },
      "outputs": [
        {
          "data": {
            "image/png": "[encoded data removed]",
            "text/plain": [
              "<Figure size 432x288 with 1 Axes>"
            ]
          },
          "metadata": {
            "needs_background": "light"
          },
          "output_type": "display_data"
        },
        {
          "name": "stdout",
          "output_type": "stream",
          "text": [
            "Order_Region\n",
            "Canada             3.331595\n",
            "Caribbean          3.507213\n",
            "Central Africa     3.560525\n",
            "Central America    3.510462\n",
            "Central Asia       3.417722\n",
            "East Africa        3.514579\n",
            "East of USA        3.500940\n",
            "Eastern Asia       3.527335\n",
            "Eastern Europe     3.500765\n",
            "North Africa       3.480507\n",
            "Northern Europe    3.502349\n",
            "Oceania            3.496354\n",
            "South America      3.505725\n",
            "South Asia         3.502005\n",
            "South of  USA      3.492707\n",
            "Southeast Asia     3.496698\n",
            "Southern Africa    3.446845\n",
            "Southern Europe    3.435797\n",
            "US Center          3.457618\n",
            "West Africa        3.534091\n",
            "West Asia          3.486770\n",
            "West of USA        3.504942\n",
            "Western Europe     3.498432\n",
            "Name: Days_for_shipping_(real), dtype: float64\n",
            "Percentage of Late Deliveries: 54.83%\n"
          ]
        }
      ],
      "source": [
        "import pandas as pd\n",
        "import matplotlib.pyplot as plt\n",
        "\n",
        "# select the relevant columns for analysis\n",
        "shipping_cols = ['Type', 'Days_for_shipping_(real)', 'Days_for_shipment_(scheduled)',\n",
        "                 'Delivery_Status', 'Late_delivery_risk', 'Market', 'Order_City',\n",
        "                 'Order_Country', 'Order_Region', 'Order_State', 'Order_Status',\n",
        "                 'shipping_date_(DateOrders)', 'Shipping_Mode']\n",
        "\n",
        "# create a new dataframe with the selected columns\n",
        "shipping_df = df[shipping_cols]\n",
        "\n",
        "# visualize the distribution of real shipping days\n",
        "plt.hist(shipping_df['Days_for_shipping_(real)'], bins=20)\n",
        "plt.title('Distribution of Real Shipping Days')\n",
        "plt.xlabel('Days')\n",
        "plt.ylabel('Count')\n",
        "plt.show()\n",
        "\n",
        "# calculate the average days for shipping by region\n",
        "avg_days_by_region = shipping_df.groupby('Order_Region')['Days_for_shipping_(real)'].mean()\n",
        "print(avg_days_by_region)\n",
        "\n",
        "# calculate the percentage of late deliveries\n",
        "num_late_deliveries = shipping_df[shipping_df['Delivery_Status'] == 'Late delivery']['Delivery_Status'].count()\n",
        "num_deliveries = shipping_df['Delivery_Status'].count()\n",
        "perc_late_deliveries = num_late_deliveries / num_deliveries * 100\n",
        "print(f'Percentage of Late Deliveries: {perc_late_deliveries:.2f}%')\n"
      ]
    },
    {
      "cell_type": "markdown",
      "id": "9788a2a0",
      "metadata": {
        "id": "9788a2a0"
      },
      "source": [
        "#### The output shows the average (mean) number of days it takes for orders to be shipped and delivered successfully to customers in different regions. The regions are listed in alphabetical order, and for each region, the average number of days is displayed as a decimal number.\n",
        "For example, for the region \"Canada\", the average number of days for shipping is 3.333333, while for \"Caribbean\" it is 3.502379. The last line of the output, \"Percentage of Late Deliveries: 54.83%\", indicates the percentage of orders that were delivered late, regardless of the region."
      ]
    },
    {
      "cell_type": "markdown",
      "id": "ad169875",
      "metadata": {
        "id": "ad169875"
      },
      "source": [
        "#### cost"
      ]
    },
    {
      "cell_type": "code",
      "execution_count": null,
      "id": "9d2f8cb7",
      "metadata": {
        "id": "9d2f8cb7"
      },
      "outputs": [],
      "source": [
        "# calculate the cost of each product in the order\n",
        "df['product_cost'] = df['Order_Item_Product_Price'] * df['Order_Item_Quantity']\n",
        "\n",
        "# group the data by order id and sum up the product costs for each order\n",
        "order_costs = df.groupby('Order_Id')['product_cost'].sum()\n",
        "\n",
        "# add the order costs to the original dataset\n",
        "df = pd.merge(df, order_costs, on='Order_Id', how='left')\n",
        "\n",
        "# rename the new column to 'Order_Cost'\n",
        "df = df.rename(columns={'product_cost_y': 'Order_Cost'})"
      ]
    },
    {
      "cell_type": "code",
      "execution_count": null,
      "id": "1376fe9c",
      "metadata": {
        "id": "1376fe9c",
        "outputId": "553aaba7-04ce-4399-9674-636b156d385a"
      },
      "outputs": [
        {
          "data": {
            "image/png": "[encoded data removed]",
            "text/plain": [
              "<Figure size 432x288 with 1 Axes>"
            ]
          },
          "metadata": {
            "needs_background": "light"
          },
          "output_type": "display_data"
        }
      ],
      "source": [
        "### To visualize the cost of each order, you can use a histogram or a boxplot. Here is an example code to create a histogram:\n",
        "import matplotlib.pyplot as plt\n",
        "\n",
        "# Create a histogram of Order_Cost column\n",
        "plt.hist(df['Order_Cost'], bins=50)\n",
        "plt.xlabel('Order Cost')\n",
        "plt.ylabel('Frequency')\n",
        "plt.title('Distribution of Order Cost')\n",
        "plt.show()"
      ]
    },
    {
      "cell_type": "markdown",
      "id": "d1fdd5af",
      "metadata": {
        "id": "d1fdd5af"
      },
      "source": [
        "#### This will create a histogram that shows the distribution of the cost of each order. \n",
        "You can adjust the number of bins to change the granularity of the histogram. A boxplot can also be used to visualize the distribution of the cost of each order"
      ]
    },
    {
      "cell_type": "code",
      "execution_count": null,
      "id": "e61b33dd",
      "metadata": {
        "id": "e61b33dd",
        "outputId": "481b1d48-6722-4bfe-f103-4c4801cf7dc9"
      },
      "outputs": [
        {
          "data": {
            "image/png": "[encoded data removed]",
            "text/plain": [
              "<Figure size 432x288 with 1 Axes>"
            ]
          },
          "metadata": {
            "needs_background": "light"
          },
          "output_type": "display_data"
        }
      ],
      "source": [
        "import seaborn as sns\n",
        "\n",
        "# Create a boxplot of Order_Cost column\n",
        "sns.boxplot(x='Order_Cost', data=df)\n",
        "plt.xlabel('Order Cost')\n",
        "plt.title('Distribution of Order Cost')\n",
        "plt.show()"
      ]
    },
    {
      "cell_type": "markdown",
      "id": "05548282",
      "metadata": {
        "id": "05548282"
      },
      "source": [
        "### Descriptive analysis"
      ]
    },
    {
      "cell_type": "markdown",
      "id": "0c511bf2",
      "metadata": {
        "id": "0c511bf2"
      },
      "source": [
        "Descriptive statistics: You can use descriptive statistics to summarize and describe the main \n",
        "features of the numerical columns such as Days_for_shipping, Benefit_per_order, Sales_per_customer, \n",
        "and others. This includes measures of central tendency (mean, median, mode), measures of variability (range, variance, standard deviation), and measures of shape (skewness, kurtosis). For categorical columns such as Delivery_Status, Late_delivery_risk, Category_Name, and others, you can use frequency distributions and proportions."
      ]
    },
    {
      "cell_type": "code",
      "execution_count": null,
      "id": "d96596ec",
      "metadata": {
        "id": "d96596ec",
        "outputId": "2ab721e7-bcb5-424b-e997-f694e745c120"
      },
      "outputs": [
        {
          "name": "stdout",
          "output_type": "stream",
          "text": [
            "Numerical Statistics:\n",
            "       Days_for_shipping_(real)  Benefit_per_order  Sales_per_customer\n",
            "count             180519.000000       1.805190e+05        1.805190e+05\n",
            "mean                   3.497654      -4.156300e+02        2.249000e+01\n",
            "std                    1.623722       1.011077e-09        7.364085e-11\n",
            "min                    0.000000      -4.156300e+02        2.249000e+01\n",
            "25%                    2.000000      -4.156300e+02        2.249000e+01\n",
            "50%                    3.000000      -4.156300e+02        2.249000e+01\n",
            "75%                    5.000000      -4.156300e+02        2.249000e+01\n",
            "max                    6.000000      -4.156300e+02        2.249000e+01\n",
            "\n",
            "Categorical Statistics:\n",
            "Delivery_Status    Late_delivery_risk  Category_Name       \n",
            "Late delivery      1                   Cleats                  0.074762\n",
            "                                       Men's Footwear          0.067145\n",
            "                                       Women's Apparel         0.063572\n",
            "                                       Indoor/Outdoor Games    0.058526\n",
            "                                       Fishing                 0.052715\n",
            "                                                                 ...   \n",
            "Shipping on time   0                   Basketball              0.000028\n",
            "Shipping canceled  0                   Basketball              0.000017\n",
            "                                       Soccer                  0.000011\n",
            "                                       Strength Training       0.000011\n",
            "                                       As Seen on  TV!         0.000011\n",
            "Length: 199, dtype: float64\n"
          ]
        }
      ],
      "source": [
        "import pandas as pd\n",
        "\n",
        "\n",
        "# Numerical columns\n",
        "numerical_cols = ['Days_for_shipping_(real)', 'Benefit_per_order', 'Sales_per_customer']\n",
        "numerical_stats = df[numerical_cols].describe()\n",
        "\n",
        "# Categorical columns\n",
        "categorical_cols = ['Delivery_Status', 'Late_delivery_risk', 'Category_Name']\n",
        "categorical_stats = df[categorical_cols].value_counts(normalize=True)\n",
        "\n",
        "# Print numerical statistics\n",
        "print(\"Numerical Statistics:\")\n",
        "print(numerical_stats)\n",
        "\n",
        "# Print categorical statistics\n",
        "print(\"\\nCategorical Statistics:\")\n",
        "print(categorical_stats)"
      ]
    },
    {
      "cell_type": "code",
      "execution_count": null,
      "id": "c40629f1",
      "metadata": {
        "id": "c40629f1"
      },
      "outputs": [],
      "source": []
    },
    {
      "cell_type": "markdown",
      "id": "09f71593",
      "metadata": {
        "id": "09f71593"
      },
      "source": [
        "#### Classification Algorithms"
      ]
    },
    {
      "cell_type": "markdown",
      "id": "92279355",
      "metadata": {
        "id": "92279355"
      },
      "source": [
        "1. Logistic Regression"
      ]
    },
    {
      "cell_type": "code",
      "execution_count": null,
      "id": "faa42780",
      "metadata": {
        "id": "faa42780"
      },
      "outputs": [],
      "source": [
        "from sklearn.linear_model import LogisticRegression\n",
        "from sklearn.model_selection import train_test_split\n",
        "from sklearn.metrics import classification_report"
      ]
    },
    {
      "cell_type": "code",
      "execution_count": null,
      "id": "12c55c53",
      "metadata": {
        "id": "12c55c53",
        "outputId": "a2bd15a7-34b3-461e-d48a-5a651c153eef"
      },
      "outputs": [
        {
          "data": {
            "text/html": [
              "<div>\n",
              "<style scoped>\n",
              "    .dataframe tbody tr th:only-of-type {\n",
              "        vertical-align: middle;\n",
              "    }\n",
              "\n",
              "    .dataframe tbody tr th {\n",
              "        vertical-align: top;\n",
              "    }\n",
              "\n",
              "    .dataframe thead th {\n",
              "        text-align: right;\n",
              "    }\n",
              "</style>\n",
              "<table border=\"1\" class=\"dataframe\">\n",
              "  <thead>\n",
              "    <tr style=\"text-align: right;\">\n",
              "      <th></th>\n",
              "      <th>Order_Region</th>\n",
              "      <th>Shipping_Mode</th>\n",
              "      <th>Delivery_Status</th>\n",
              "    </tr>\n",
              "  </thead>\n",
              "  <tbody>\n",
              "    <tr>\n",
              "      <th>0</th>\n",
              "      <td>Southeast Asia</td>\n",
              "      <td>Standard Class</td>\n",
              "      <td>Advance shipping</td>\n",
              "    </tr>\n",
              "    <tr>\n",
              "      <th>1</th>\n",
              "      <td>South Asia</td>\n",
              "      <td>Standard Class</td>\n",
              "      <td>Late delivery</td>\n",
              "    </tr>\n",
              "    <tr>\n",
              "      <th>2</th>\n",
              "      <td>South Asia</td>\n",
              "      <td>Standard Class</td>\n",
              "      <td>Shipping on time</td>\n",
              "    </tr>\n",
              "    <tr>\n",
              "      <th>3</th>\n",
              "      <td>Oceania</td>\n",
              "      <td>Standard Class</td>\n",
              "      <td>Advance shipping</td>\n",
              "    </tr>\n",
              "    <tr>\n",
              "      <th>4</th>\n",
              "      <td>Oceania</td>\n",
              "      <td>Standard Class</td>\n",
              "      <td>Advance shipping</td>\n",
              "    </tr>\n",
              "  </tbody>\n",
              "</table>\n",
              "</div>"
            ],
            "text/plain": [
              "     Order_Region   Shipping_Mode   Delivery_Status\n",
              "0  Southeast Asia  Standard Class  Advance shipping\n",
              "1      South Asia  Standard Class     Late delivery\n",
              "2      South Asia  Standard Class  Shipping on time\n",
              "3         Oceania  Standard Class  Advance shipping\n",
              "4         Oceania  Standard Class  Advance shipping"
            ]
          },
          "execution_count": 55,
          "metadata": {},
          "output_type": "execute_result"
        }
      ],
      "source": [
        "# Select the columns needed for the model\n",
        "prediction_data=df[['Order_Region','Shipping_Mode','Delivery_Status']]\n",
        "prediction_data.columns=['Order_Region','Shipping_Mode','Delivery_Status'] \n",
        "prediction_data=prediction_data[prediction_data.Delivery_Status!='Shipping_canceled']\n",
        "prediction_data=prediction_data[prediction_data.Delivery_Status!='Advance_shipping']\n",
        "prediction_data.head()"
      ]
    },
    {
      "cell_type": "code",
      "execution_count": null,
      "id": "700cb290",
      "metadata": {
        "id": "700cb290",
        "outputId": "aaf003b2-0a88-40e6-b53d-6209982766c4"
      },
      "outputs": [
        {
          "data": {
            "text/html": [
              "<div>\n",
              "<style scoped>\n",
              "    .dataframe tbody tr th:only-of-type {\n",
              "        vertical-align: middle;\n",
              "    }\n",
              "\n",
              "    .dataframe tbody tr th {\n",
              "        vertical-align: top;\n",
              "    }\n",
              "\n",
              "    .dataframe thead th {\n",
              "        text-align: right;\n",
              "    }\n",
              "</style>\n",
              "<table border=\"1\" class=\"dataframe\">\n",
              "  <thead>\n",
              "    <tr style=\"text-align: right;\">\n",
              "      <th></th>\n",
              "      <th>Order_Region_Caribbean</th>\n",
              "      <th>Order_Region_Central Africa</th>\n",
              "      <th>Order_Region_Central America</th>\n",
              "      <th>Order_Region_Central Asia</th>\n",
              "      <th>Order_Region_East Africa</th>\n",
              "      <th>Order_Region_East of USA</th>\n",
              "      <th>Order_Region_Eastern Asia</th>\n",
              "      <th>Order_Region_Eastern Europe</th>\n",
              "      <th>Order_Region_North Africa</th>\n",
              "      <th>Order_Region_Northern Europe</th>\n",
              "      <th>...</th>\n",
              "      <th>Order_Region_West Africa</th>\n",
              "      <th>Order_Region_West Asia</th>\n",
              "      <th>Order_Region_West of USA</th>\n",
              "      <th>Order_Region_Western Europe</th>\n",
              "      <th>Shipping_Mode_Same Day</th>\n",
              "      <th>Shipping_Mode_Second Class</th>\n",
              "      <th>Shipping_Mode_Standard Class</th>\n",
              "      <th>Delivery_Status_Late delivery</th>\n",
              "      <th>Delivery_Status_Shipping canceled</th>\n",
              "      <th>Delivery_Status_Shipping on time</th>\n",
              "    </tr>\n",
              "  </thead>\n",
              "  <tbody>\n",
              "    <tr>\n",
              "      <th>0</th>\n",
              "      <td>0</td>\n",
              "      <td>0</td>\n",
              "      <td>0</td>\n",
              "      <td>0</td>\n",
              "      <td>0</td>\n",
              "      <td>0</td>\n",
              "      <td>0</td>\n",
              "      <td>0</td>\n",
              "      <td>0</td>\n",
              "      <td>0</td>\n",
              "      <td>...</td>\n",
              "      <td>0</td>\n",
              "      <td>0</td>\n",
              "      <td>0</td>\n",
              "      <td>0</td>\n",
              "      <td>0</td>\n",
              "      <td>0</td>\n",
              "      <td>1</td>\n",
              "      <td>0</td>\n",
              "      <td>0</td>\n",
              "      <td>0</td>\n",
              "    </tr>\n",
              "    <tr>\n",
              "      <th>1</th>\n",
              "      <td>0</td>\n",
              "      <td>0</td>\n",
              "      <td>0</td>\n",
              "      <td>0</td>\n",
              "      <td>0</td>\n",
              "      <td>0</td>\n",
              "      <td>0</td>\n",
              "      <td>0</td>\n",
              "      <td>0</td>\n",
              "      <td>0</td>\n",
              "      <td>...</td>\n",
              "      <td>0</td>\n",
              "      <td>0</td>\n",
              "      <td>0</td>\n",
              "      <td>0</td>\n",
              "      <td>0</td>\n",
              "      <td>0</td>\n",
              "      <td>1</td>\n",
              "      <td>1</td>\n",
              "      <td>0</td>\n",
              "      <td>0</td>\n",
              "    </tr>\n",
              "    <tr>\n",
              "      <th>2</th>\n",
              "      <td>0</td>\n",
              "      <td>0</td>\n",
              "      <td>0</td>\n",
              "      <td>0</td>\n",
              "      <td>0</td>\n",
              "      <td>0</td>\n",
              "      <td>0</td>\n",
              "      <td>0</td>\n",
              "      <td>0</td>\n",
              "      <td>0</td>\n",
              "      <td>...</td>\n",
              "      <td>0</td>\n",
              "      <td>0</td>\n",
              "      <td>0</td>\n",
              "      <td>0</td>\n",
              "      <td>0</td>\n",
              "      <td>0</td>\n",
              "      <td>1</td>\n",
              "      <td>0</td>\n",
              "      <td>0</td>\n",
              "      <td>1</td>\n",
              "    </tr>\n",
              "    <tr>\n",
              "      <th>3</th>\n",
              "      <td>0</td>\n",
              "      <td>0</td>\n",
              "      <td>0</td>\n",
              "      <td>0</td>\n",
              "      <td>0</td>\n",
              "      <td>0</td>\n",
              "      <td>0</td>\n",
              "      <td>0</td>\n",
              "      <td>0</td>\n",
              "      <td>0</td>\n",
              "      <td>...</td>\n",
              "      <td>0</td>\n",
              "      <td>0</td>\n",
              "      <td>0</td>\n",
              "      <td>0</td>\n",
              "      <td>0</td>\n",
              "      <td>0</td>\n",
              "      <td>1</td>\n",
              "      <td>0</td>\n",
              "      <td>0</td>\n",
              "      <td>0</td>\n",
              "    </tr>\n",
              "    <tr>\n",
              "      <th>4</th>\n",
              "      <td>0</td>\n",
              "      <td>0</td>\n",
              "      <td>0</td>\n",
              "      <td>0</td>\n",
              "      <td>0</td>\n",
              "      <td>0</td>\n",
              "      <td>0</td>\n",
              "      <td>0</td>\n",
              "      <td>0</td>\n",
              "      <td>0</td>\n",
              "      <td>...</td>\n",
              "      <td>0</td>\n",
              "      <td>0</td>\n",
              "      <td>0</td>\n",
              "      <td>0</td>\n",
              "      <td>0</td>\n",
              "      <td>0</td>\n",
              "      <td>1</td>\n",
              "      <td>0</td>\n",
              "      <td>0</td>\n",
              "      <td>0</td>\n",
              "    </tr>\n",
              "  </tbody>\n",
              "</table>\n",
              "<p>5 rows × 28 columns</p>\n",
              "</div>"
            ],
            "text/plain": [
              "   Order_Region_Caribbean  Order_Region_Central Africa  \\\n",
              "0                       0                            0   \n",
              "1                       0                            0   \n",
              "2                       0                            0   \n",
              "3                       0                            0   \n",
              "4                       0                            0   \n",
              "\n",
              "   Order_Region_Central America  Order_Region_Central Asia  \\\n",
              "0                             0                          0   \n",
              "1                             0                          0   \n",
              "2                             0                          0   \n",
              "3                             0                          0   \n",
              "4                             0                          0   \n",
              "\n",
              "   Order_Region_East Africa  Order_Region_East of USA  \\\n",
              "0                         0                         0   \n",
              "1                         0                         0   \n",
              "2                         0                         0   \n",
              "3                         0                         0   \n",
              "4                         0                         0   \n",
              "\n",
              "   Order_Region_Eastern Asia  Order_Region_Eastern Europe  \\\n",
              "0                          0                            0   \n",
              "1                          0                            0   \n",
              "2                          0                            0   \n",
              "3                          0                            0   \n",
              "4                          0                            0   \n",
              "\n",
              "   Order_Region_North Africa  Order_Region_Northern Europe  ...  \\\n",
              "0                          0                             0  ...   \n",
              "1                          0                             0  ...   \n",
              "2                          0                             0  ...   \n",
              "3                          0                             0  ...   \n",
              "4                          0                             0  ...   \n",
              "\n",
              "   Order_Region_West Africa  Order_Region_West Asia  \\\n",
              "0                         0                       0   \n",
              "1                         0                       0   \n",
              "2                         0                       0   \n",
              "3                         0                       0   \n",
              "4                         0                       0   \n",
              "\n",
              "   Order_Region_West of USA   Order_Region_Western Europe  \\\n",
              "0                          0                            0   \n",
              "1                          0                            0   \n",
              "2                          0                            0   \n",
              "3                          0                            0   \n",
              "4                          0                            0   \n",
              "\n",
              "   Shipping_Mode_Same Day  Shipping_Mode_Second Class  \\\n",
              "0                       0                           0   \n",
              "1                       0                           0   \n",
              "2                       0                           0   \n",
              "3                       0                           0   \n",
              "4                       0                           0   \n",
              "\n",
              "   Shipping_Mode_Standard Class  Delivery_Status_Late delivery  \\\n",
              "0                             1                              0   \n",
              "1                             1                              1   \n",
              "2                             1                              0   \n",
              "3                             1                              0   \n",
              "4                             1                              0   \n",
              "\n",
              "   Delivery_Status_Shipping canceled  Delivery_Status_Shipping on time  \n",
              "0                                  0                                 0  \n",
              "1                                  0                                 0  \n",
              "2                                  0                                 1  \n",
              "3                                  0                                 0  \n",
              "4                                  0                                 0  \n",
              "\n",
              "[5 rows x 28 columns]"
            ]
          },
          "execution_count": 56,
          "metadata": {},
          "output_type": "execute_result"
        }
      ],
      "source": [
        "#Feature enginering, one hot encoding\n",
        "#Using one hot encoding when the categorical variable is NOMINAL\n",
        "prediction_data=pd.get_dummies(prediction_data, drop_first=True)\n",
        "prediction_data.head()"
      ]
    },
    {
      "cell_type": "code",
      "execution_count": null,
      "id": "051852d9",
      "metadata": {
        "id": "051852d9"
      },
      "outputs": [],
      "source": [
        "#Test train split\n",
        "X_train, X_test, Y_train, Y_test=train_test_split(prediction_data.drop('Delivery_Status_Late delivery',axis=1),prediction_data['Delivery_Status_Late delivery'])"
      ]
    },
    {
      "cell_type": "code",
      "execution_count": null,
      "id": "08553fab",
      "metadata": {
        "id": "08553fab",
        "outputId": "eef2fe54-58e4-4f3b-c45e-d15a258c9031"
      },
      "outputs": [
        {
          "data": {
            "text/plain": [
              "LogisticRegression()"
            ]
          },
          "execution_count": 58,
          "metadata": {},
          "output_type": "execute_result"
        }
      ],
      "source": [
        "#train the model\n",
        "LogReg=LogisticRegression()\n",
        "LogReg.fit(X_train, Y_train)"
      ]
    },
    {
      "cell_type": "code",
      "execution_count": null,
      "id": "e4d52fcb",
      "metadata": {
        "id": "e4d52fcb",
        "outputId": "3c4c77ac-c2b8-48b0-c4ac-ca7a27228166"
      },
      "outputs": [
        {
          "data": {
            "text/plain": [
              "0.7751163306004875"
            ]
          },
          "execution_count": 59,
          "metadata": {},
          "output_type": "execute_result"
        }
      ],
      "source": [
        "#score the model\n",
        "LogReg.score(X_test, Y_test)"
      ]
    },
    {
      "cell_type": "code",
      "execution_count": null,
      "id": "2d2edcfc",
      "metadata": {
        "id": "2d2edcfc",
        "outputId": "d857089c-e281-46cd-a91d-e4684c1a6127"
      },
      "outputs": [
        {
          "name": "stdout",
          "output_type": "stream",
          "text": [
            "              precision    recall  f1-score   support\n",
            "\n",
            "           0       0.74      0.77      0.76     20446\n",
            "           1       0.80      0.78      0.79     24684\n",
            "\n",
            "    accuracy                           0.78     45130\n",
            "   macro avg       0.77      0.77      0.77     45130\n",
            "weighted avg       0.78      0.78      0.78     45130\n",
            "\n"
          ]
        }
      ],
      "source": [
        "Y_pred=LogReg.predict(X_test)\n",
        "print (classification_report(Y_test,Y_pred))"
      ]
    },
    {
      "cell_type": "markdown",
      "id": "c1b04ee3",
      "metadata": {
        "id": "c1b04ee3"
      },
      "source": [
        "#### Random forest"
      ]
    },
    {
      "cell_type": "code",
      "execution_count": null,
      "id": "ec8628ea",
      "metadata": {
        "id": "ec8628ea",
        "outputId": "f4b1c8a8-847d-477a-e1c5-82d84dab4bba"
      },
      "outputs": [
        {
          "data": {
            "text/plain": [
              "RandomForestClassifier()"
            ]
          },
          "execution_count": 61,
          "metadata": {},
          "output_type": "execute_result"
        }
      ],
      "source": [
        "#Import dependencies and train the model\n",
        "from sklearn.ensemble import RandomForestClassifier\n",
        "classifier = RandomForestClassifier()\n",
        "classifier.fit(X_train,Y_train)"
      ]
    },
    {
      "cell_type": "code",
      "execution_count": null,
      "id": "37f664f7",
      "metadata": {
        "id": "37f664f7",
        "outputId": "dcdef6f5-c546-4bb7-91f4-b69ed72a899c"
      },
      "outputs": [
        {
          "data": {
            "text/plain": [
              "0.7751163306004875"
            ]
          },
          "execution_count": 62,
          "metadata": {},
          "output_type": "execute_result"
        }
      ],
      "source": [
        "###score the model\n",
        "classifier.score(X_test,Y_test)"
      ]
    },
    {
      "cell_type": "code",
      "execution_count": null,
      "id": "b652c4b6",
      "metadata": {
        "id": "b652c4b6",
        "outputId": "767bcd27-c1fa-425a-f479-b5f79a05f461"
      },
      "outputs": [
        {
          "name": "stdout",
          "output_type": "stream",
          "text": [
            "              precision    recall  f1-score   support\n",
            "\n",
            "           0       0.74      0.77      0.76     20446\n",
            "           1       0.80      0.78      0.79     24684\n",
            "\n",
            "    accuracy                           0.78     45130\n",
            "   macro avg       0.77      0.77      0.77     45130\n",
            "weighted avg       0.78      0.78      0.78     45130\n",
            "\n"
          ]
        }
      ],
      "source": [
        "Y_pred_RF=classifier.predict(X_test)\n",
        "print (classification_report(Y_test,Y_pred_RF))"
      ]
    },
    {
      "cell_type": "markdown",
      "id": "6e10d7ae",
      "metadata": {
        "id": "6e10d7ae"
      },
      "source": [
        "#### Gaussian Naive Bayes model"
      ]
    },
    {
      "cell_type": "code",
      "execution_count": null,
      "id": "59b52716",
      "metadata": {
        "id": "59b52716",
        "outputId": "e31ddd53-53c4-4d8e-fc0c-4816e1852ba6"
      },
      "outputs": [
        {
          "name": "stdout",
          "output_type": "stream",
          "text": [
            "Confusion Matrix:\n",
            "[[ 9999 10447]\n",
            " [    0 24684]]\n",
            "\n",
            "Classification Report:\n",
            "              precision    recall  f1-score   support\n",
            "\n",
            "           0       1.00      0.49      0.66     20446\n",
            "           1       0.70      1.00      0.83     24684\n",
            "\n",
            "    accuracy                           0.77     45130\n",
            "   macro avg       0.85      0.74      0.74     45130\n",
            "weighted avg       0.84      0.77      0.75     45130\n",
            "\n"
          ]
        }
      ],
      "source": [
        "import pandas as pd\n",
        "from sklearn.model_selection import train_test_split\n",
        "from sklearn.naive_bayes import GaussianNB\n",
        "from sklearn.metrics import classification_report, confusion_matrix\n",
        "\n",
        "# Initialize and train the Gaussian Naive Bayes model\n",
        "model = GaussianNB()\n",
        "model.fit(X_train, Y_train)\n",
        "\n",
        "# Make predictions on the test set\n",
        "y_pred = model.predict(X_test)\n",
        "\n",
        "# Evaluate the model\n",
        "print(\"Confusion Matrix:\")\n",
        "print(confusion_matrix(Y_test, y_pred))\n",
        "\n",
        "print(\"\\nClassification Report:\")\n",
        "print(classification_report(Y_test, y_pred))\n"
      ]
    },
    {
      "cell_type": "code",
      "execution_count": null,
      "id": "0c2ca2d4",
      "metadata": {
        "id": "0c2ca2d4"
      },
      "outputs": [],
      "source": []
    },
    {
      "cell_type": "code",
      "execution_count": null,
      "id": "fe7ab57f",
      "metadata": {
        "id": "fe7ab57f"
      },
      "outputs": [],
      "source": []
    }
  ],
  "metadata": {
    "kernelspec": {
      "display_name": "Python 3 (ipykernel)",
      "language": "python",
      "name": "python3"
    },
    "language_info": {
      "codemirror_mode": {
        "name": "ipython",
        "version": 3
      },
      "file_extension": ".py",
      "mimetype": "text/x-python",
      "name": "python",
      "nbconvert_exporter": "python",
      "pygments_lexer": "ipython3",
      "version": "3.9.12"
    },
    "colab": {
      "provenance": []
    }
  },
  "nbformat": 4,
  "nbformat_minor": 5
}